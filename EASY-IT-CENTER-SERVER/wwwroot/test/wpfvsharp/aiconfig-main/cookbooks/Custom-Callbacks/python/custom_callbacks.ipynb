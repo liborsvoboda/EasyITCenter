{
 "cells": [
  {
   "cell_type": "code",
   "execution_count": 4,
   "metadata": {},
   "outputs": [],
   "source": [
    "from aiconfig import AIConfigRuntime\n",
    "\n",
    "# Create ~/.env file with this line: export OPENAI_API_KEY=<your key here>\n",
    "# You can get your key from https://platform.openai.com/api-keys \n",
    "import openai\n",
    "import dotenv\n",
    "import os\n",
    "dotenv.load_dotenv()\n",
    "openai.api_key = os.getenv(\"OPENAI_API_KEY\")\n",
    "\n",
    "aiconfig = AIConfigRuntime.load(\"../travel.aiconfig.json\")"
   ]
  },
  {
   "cell_type": "code",
   "execution_count": 5,
   "metadata": {},
   "outputs": [],
   "source": [
    "from aiconfig import CallbackEvent\n",
    "import pprint\n",
    "async def my_custom_callback(event: CallbackEvent) -> None:\n",
    "  \"\"\"\n",
    "    This is a custom callback that prints the event name and the event stdout.\n",
    "\n",
    "    Args:\n",
    "        event (CallbackEvent): The event that triggered the callback.\n",
    "\n",
    "  \"\"\"\n",
    "  print(f\"Event triggered: {event.name}\")\n",
    "  pprint.pprint(event, width = 150)"
   ]
  },
  {
   "cell_type": "code",
   "execution_count": 6,
   "metadata": {},
   "outputs": [
    {
     "name": "stdout",
     "output_type": "stream",
     "text": [
      "Event triggered: on_resolve_start\n",
      "CallbackEventModel(name='on_resolve_start', file='/Users/ankush/Projects/aiconfig/python/src/aiconfig/Config.py', data={'prompt_name': 'get_activities', 'params': None}, ts_ns=1700094936363867000)\n",
      "Event triggered: on_deserialize_start\n",
      "CallbackEventModel(name='on_deserialize_start', file='aiconfig.default_parsers.openai', data={'prompt': Prompt(name='get_activities', input='Tell me 10 fun attractions to do in NYC.', metadata=None, outputs=[]), 'params': {}}, ts_ns=1700094936363867000)\n",
      "Event triggered: on_deserialize_complete\n",
      "CallbackEventModel(name='on_deserialize_complete', file='aiconfig.default_parsers.openai', data={'output': {'top_p': 1, 'model': 'gpt-3.5-turbo', 'temperature': 1, 'messages': [{'content': 'Tell me 10 fun attractions to do in NYC.', 'role': 'user'}]}}, ts_ns=1700094936363867000)\n",
      "Event triggered: on_resolve_complete\n",
      "CallbackEventModel(name='on_resolve_complete', file='aiconfig.Config', data={'result': {'top_p': 1, 'model': 'gpt-3.5-turbo', 'temperature': 1, 'messages': [{'content': 'Tell me 10 fun attractions to do in NYC.', 'role': 'user'}]}}, ts_ns=1700094936363867000)\n"
     ]
    },
    {
     "data": {
      "text/plain": [
       "{'top_p': 1,\n",
       " 'model': 'gpt-3.5-turbo',\n",
       " 'temperature': 1,\n",
       " 'messages': [{'content': 'Tell me 10 fun attractions to do in NYC.',\n",
       "   'role': 'user'}]}"
      ]
     },
     "execution_count": 6,
     "metadata": {},
     "output_type": "execute_result"
    }
   ],
   "source": [
    "from aiconfig import CallbackManager\n",
    "\n",
    "callback_manager = CallbackManager([my_custom_callback])\n",
    "aiconfig.set_callback_manager(callback_manager)\n",
    "\n",
    "await aiconfig.resolve(prompt_name=\"get_activities\")"
   ]
  },
  {
   "cell_type": "code",
   "execution_count": null,
   "metadata": {},
   "outputs": [],
   "source": []
  }
 ],
 "metadata": {
  "kernelspec": {
   "display_name": "Python 3",
   "language": "python",
   "name": "python3"
  },
  "language_info": {
   "codemirror_mode": {
    "name": "ipython",
    "version": 3
   },
   "file_extension": ".py",
   "mimetype": "text/x-python",
   "name": "python",
   "nbconvert_exporter": "python",
   "pygments_lexer": "ipython3",
   "version": "3.11.5"
  }
 },
 "nbformat": 4,
 "nbformat_minor": 2
}
