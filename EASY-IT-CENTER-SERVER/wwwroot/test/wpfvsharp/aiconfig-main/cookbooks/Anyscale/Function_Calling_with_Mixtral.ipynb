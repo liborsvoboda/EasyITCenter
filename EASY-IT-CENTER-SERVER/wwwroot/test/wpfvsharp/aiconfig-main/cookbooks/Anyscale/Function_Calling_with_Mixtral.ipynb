{
  "cells": [
    {
      "attachments": {},
      "cell_type": "markdown",
      "metadata": {
        "id": "_KIVLBz840Bi"
      },
      "source": [
        "# Function Calling with Anyscale Endpoints & AIConfig\n",
        "\n",
        "This notebook serves as a practical guide for leveraging AIConfig and function calling with Anyscale Endpoints. We start with a mock database of books and functions to list, search, and retrieve books. Function calling is enabled so the LLM can interpret a user's question, determine the appropriate function to call, and execute the function. \n",
        "\n",
        "This guide shows how to achieve the [OpenAI function calling demo](https://github.com/openai/openai-node/blob/v4/examples/function-call-stream.ts) using Anyscale Endpoints instead (and using Mixtral-8x7B instead of GPT-4).\n",
        "\n",
        "Read more about [Function Calling with Anyscale Endpoints](https://docs.endpoints.anyscale.com/guides/function-calling) and [AIConfig for prompt and model management](https://github.com/lastmile-ai/aiconfig)."
      ]
    },
    {
      "cell_type": "code",
      "execution_count": null,
      "metadata": {},
      "outputs": [],
      "source": [
        "# Install AIConfig package\n",
        "!pip3 install python-aiconfig"
      ]
    },
    {
      "cell_type": "code",
      "execution_count": null,
      "metadata": {
        "id": "51w-3OZC_Z97"
      },
      "outputs": [],
      "source": [
        "# Create .env file at aiconfig/.env containing the following line: \n",
        "# ANYSCALE_ENDPOINT_API_KEY=<your key here>\n",
        "# You can get your key from https://app.endpoints.anyscale.com/credentials\n",
        "import dotenv\n",
        "dotenv.load_dotenv()"
      ]
    },
    {
      "attachments": {},
      "cell_type": "markdown",
      "metadata": {
        "id": "rXJJiDO6gbOK"
      },
      "source": [
        "## Set up the books DB"
      ]
    },
    {
      "cell_type": "code",
      "execution_count": null,
      "metadata": {
        "id": "KP-CTNZBKN_J"
      },
      "outputs": [],
      "source": [
        "# Define db of books\n",
        "db = [\n",
        "    {\n",
        "        'id': 'a1',\n",
        "        'name': 'To Kill a Mockingbird',\n",
        "        'genre': 'historical',\n",
        "        'description': ('Compassionate, dramatic, and deeply moving, \"To Kill A Mockingbird\" takes readers to the roots of human behavior - to innocence and experience, kindness and cruelty, love and hatred, humor and pathos. Now with over 18 million copies in print and translated into forty languages, this regional story by a young Alabama woman claims universal appeal. Harper Lee always considered her book to be a simple love story. Today it is regarded as a masterpiece of American literature.'),\n",
        "    },\n",
        "    {\n",
        "        'id': 'a2',\n",
        "        'name': 'All the Light We Cannot See',\n",
        "        'genre': 'historical',\n",
        "        'description': ('In a mining town in Germany, Werner Pfennig, an orphan, grows up with his younger sister, enchanted by a crude radio they find that brings them news and stories from places they have never seen or imagined. Werner becomes an expert at building and fixing these crucial new instruments and is enlisted to use his talent to track down the resistance. Deftly interweaving the lives of Marie-Laure and Werner, Doerr illuminates the ways, against all odds, people try to be good to one another.'),\n",
        "    },\n",
        "    {\n",
        "        'id': 'a3',\n",
        "        'name': 'Where the Crawdads Sing',\n",
        "        'genre': 'historical',\n",
        "        'description': ('For years, rumors of the “Marsh Girl” haunted Barkley Cove, a quiet fishing village. Kya Clark is barefoot and wild; unfit for polite society. So in late 1969, when the popular Chase Andrews is found dead, locals immediately suspect her.\\n\\n'\n",
        "                        'But Kya is not what they say. A born naturalist with just one day of school, she takes life\\'s lessons from the land, learning the real ways of the world from the dishonest signals of fireflies. But while she has the skills to live in solitude forever, the time comes when she yearns to be touched and loved. Drawn to two young men from town, who are each intrigued by her wild beauty, Kya opens herself to a new and startling world—until the unthinkable happens.'),\n",
        "    },\n",
        "]"
      ]
    },
    {
      "attachments": {},
      "cell_type": "markdown",
      "metadata": {
        "id": "dCiJurzKgnqB"
      },
      "source": [
        "## Define functions (to interact with DB)"
      ]
    },
    {
      "cell_type": "code",
      "execution_count": null,
      "metadata": {
        "id": "nbolW2mVDeZD"
      },
      "outputs": [],
      "source": [
        "# Define the functions: list, search, get\n",
        "\n",
        "# The 'list' function returns a list of books in a specified genre.\n",
        "def list(genre):\n",
        "    return [item for item in db if item['genre'] == genre]\n",
        "\n",
        "# The 'search' function returns a list of books that match the provided name.\n",
        "def search(name):\n",
        "    return [item for item in db if name in item['name']]\n",
        "\n",
        "# The 'get' function returns detailed information about a book based on its ID.\n",
        "# Note: This function accepts only IDs, not names. Use the 'search' function to find a book's ID.\n",
        "def get(id):\n",
        "    for item in db:\n",
        "        if item['id'] == id:\n",
        "            return item\n",
        "    return None"
      ]
    },
    {
      "attachments": {},
      "cell_type": "markdown",
      "metadata": {
        "id": "ni_umLSdjAAT"
      },
      "source": [
        "## Get recommendations using function calls"
      ]
    },
    {
      "cell_type": "code",
      "execution_count": null,
      "metadata": {
        "id": "o7eJfimvLa3X"
      },
      "outputs": [],
      "source": [
        "# Use helper function to executes the function specified by the LLM's output for 'function_call'.\n",
        "# It handles 'list', 'search', or 'get' functions, and raises a ValueError for unknown functions.\n",
        "import json\n",
        "\n",
        "def call_function(function_call):\n",
        "    args = json.loads(function_call.arguments)\n",
        "    name = function_call.name\n",
        "\n",
        "    if name == 'list':\n",
        "        print(f\"genre={args['genre']}, args={args}\")\n",
        "        return list(args['genre'])\n",
        "    elif name == 'search':\n",
        "        return search(args['name'])\n",
        "    elif name == 'get':\n",
        "        return get(args['id'])\n",
        "    else:\n",
        "        raise ValueError('No function found')"
      ]
    },
    {
      "cell_type": "code",
      "execution_count": null,
      "metadata": {},
      "outputs": [],
      "source": [
        "from aiconfig import AIConfigRuntime, InferenceOptions\n",
        "\n",
        "config = AIConfigRuntime.load(\"recommender.aiconfig.json\")"
      ]
    },
    {
      "cell_type": "code",
      "execution_count": null,
      "metadata": {
        "id": "jD9S3q5mMtqd"
      },
      "outputs": [],
      "source": [
        "# Run recommendBook prompt with gpt-3.5 and determine right function to call based on user question\n",
        "params = {\"book\":\"Where the Crawdads Sing\"}\n",
        "inference_options = InferenceOptions(stream=False)\n",
        "\n",
        "completion = await config.run(\"recommend_book\", params, options=inference_options)\n",
        "print(completion)"
      ]
    },
    {
      "cell_type": "code",
      "execution_count": null,
      "metadata": {},
      "outputs": [],
      "source": [
        "output_data = completion[0].data\n",
        "print(output_data)\n",
        "\n",
        "assert output_data.kind == \"tool_calls\""
      ]
    },
    {
      "cell_type": "code",
      "execution_count": null,
      "metadata": {
        "id": "CZ_NhrvrTCu8"
      },
      "outputs": [],
      "source": [
        "# Run call_function to execute the LLM-specified function (list, search, get)\n",
        "\n",
        "result = None\n",
        "for func_call in output_data.value:\n",
        "    print(func_call)\n",
        "    function = func_call.function\n",
        "    result = call_function(function)\n",
        "    print(json.dumps(result, indent=4))\n"
      ]
    },
    {
      "attachments": {},
      "cell_type": "markdown",
      "metadata": {
        "id": "MKEf1idOjkvk"
      },
      "source": [
        "## Using LLaMA-7B to generate a user-friendly response"
      ]
    },
    {
      "cell_type": "code",
      "execution_count": null,
      "metadata": {
        "id": "0QZHtalIVGQB"
      },
      "outputs": [],
      "source": [
        "model=\"mistralai/Mistral-7B-Instruct-v0.1\"\n",
        "data = {\n",
        "    \"model\": model,\n",
        "    \"messages\": [\n",
        "        {\n",
        "            \"role\": \"user\",\n",
        "            \"content\": \"Here is some data about a book from a books DB - please write a short description about the book as if you're a librarian. Data: {{book_info}}\"\n",
        "        }\n",
        "    ]\n",
        "}\n",
        "\n",
        "new_prompts = await config.serialize(model, data, prompt_name=\"gen_summary\")\n",
        "config.add_prompt(prompt_name=\"gen_summary\", prompt_data=new_prompts[0])"
      ]
    },
    {
      "cell_type": "code",
      "execution_count": null,
      "metadata": {
        "id": "Xd-4rg5lj8lp"
      },
      "outputs": [],
      "source": [
        "inference_options = InferenceOptions(stream=True)\n",
        "completion = await config.run(\"gen_summary\", params={\"book_info\": result}, options=inference_options)"
      ]
    },
    {
      "cell_type": "code",
      "execution_count": null,
      "metadata": {
        "id": "4l-buJXglaLw"
      },
      "outputs": [],
      "source": [
        "config.save(\"recommender.aiconfig.json\", include_outputs=True)"
      ]
    }
  ],
  "metadata": {
    "colab": {
      "provenance": []
    },
    "kernelspec": {
      "display_name": "Python 3",
      "name": "python3"
    },
    "language_info": {
      "codemirror_mode": {
        "name": "ipython",
        "version": 3
      },
      "file_extension": ".py",
      "mimetype": "text/x-python",
      "name": "python",
      "nbconvert_exporter": "python",
      "pygments_lexer": "ipython3",
      "version": "3.12.1"
    }
  },
  "nbformat": 4,
  "nbformat_minor": 0
}
