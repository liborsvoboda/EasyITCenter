{
  "cells": [
    {
      "cell_type": "markdown",
      "metadata": {},
      "source": [
        "# Anyscale Endpoints with AIConfig\n",
        "\n",
        "[Anyscale Endpoints](https://www.anyscale.com/endpoints) support optimized inference for many open source models, including the LLaMA2 family of models (7B, 13B, 70B, CodeLLaMA, LLaMA Guard) and Mistral (7B, Mixtral 8x7B).\n",
        "\n",
        "This cookbook shows how to use any [Anyscale Endpoints](https://www.anyscale.com/endpoints) model with AIConfig using the same simple API.\n",
        "\n",
        "In this notebook we show how to build a travel itinerary using inference from multiple models (LLaMA-7B and Mixtral-8x7B) using Anyscale Endpoints\n",
        "\n",
        "Read more about [AIConfig for prompt and model management](https://github.com/lastmile-ai/aiconfig).\n",
        "\n",
        "## Models supported with Anyscale Endpoints\n",
        "For the complete list, please see https://app.endpoints.anyscale.com/docs\n",
        "* LLaMA-7B: meta-llama/Llama-2-7b-chat-hf\n",
        "* LLaMA-13B: meta-llama/Llama-2-13b-chat-hf\n",
        "* LLaMA-70B: meta-llama/Llama-2-70b-chat-hf\n",
        "* LLaMA Guard: Meta-Llama/Llama-Guard-7b\n",
        "* CodeLLaMA: codellama/CodeLlama-34b-Instruct-hf\n",
        "* Mistral-7B (OpenOrca): Open-Orca/Mistral-7B-OpenOrca\n",
        "* Mistral-7B: mistralai/Mistral-7B-Instruct-v0.1\n",
        "* Mixtral-8x7B: mistralai/Mixtral-8x7B-Instruct-v0.1\n",
        "* Zephyr: HuggingFaceH4/zephyr-7b-beta\n",
        "* GTE: thenlper/gte-large"
      ]
    },
    {
      "attachments": {},
      "cell_type": "markdown",
      "metadata": {
        "id": "kNmnUZnUFzt3"
      },
      "source": [
        "# Installation and Setup"
      ]
    },
    {
      "cell_type": "code",
      "execution_count": 1,
      "metadata": {},
      "outputs": [
        {
          "name": "stdout",
          "output_type": "stream",
          "text": [
            "Obtaining file:///Users/saqadri/lm/aiconfig/python\n",
            "  Installing build dependencies ... \u001b[?25ldone\n",
            "\u001b[?25h  Checking if build backend supports build_editable ... \u001b[?25ldone\n",
            "\u001b[?25h  Getting requirements to build editable ... \u001b[?25ldone\n",
            "\u001b[?25h  Preparing editable metadata (pyproject.toml) ... \u001b[?25ldone\n",
            "\u001b[?25hRequirement already satisfied: black in /opt/homebrew/Caskroom/miniconda/base/envs/aiconfig/lib/python3.12/site-packages (from python-aiconfig==1.1.8) (23.11.0)\n",
            "Requirement already satisfied: flake8 in /opt/homebrew/Caskroom/miniconda/base/envs/aiconfig/lib/python3.12/site-packages (from python-aiconfig==1.1.8) (6.1.0)\n",
            "Requirement already satisfied: flask-cors in /opt/homebrew/Caskroom/miniconda/base/envs/aiconfig/lib/python3.12/site-packages (from python-aiconfig==1.1.8) (4.0.0)\n",
            "Requirement already satisfied: flask[async] in /opt/homebrew/Caskroom/miniconda/base/envs/aiconfig/lib/python3.12/site-packages (from python-aiconfig==1.1.8) (3.0.0)\n",
            "Requirement already satisfied: google-generativeai in /opt/homebrew/Caskroom/miniconda/base/envs/aiconfig/lib/python3.12/site-packages (from python-aiconfig==1.1.8) (0.3.2)\n",
            "Requirement already satisfied: huggingface-hub in /opt/homebrew/Caskroom/miniconda/base/envs/aiconfig/lib/python3.12/site-packages (from python-aiconfig==1.1.8) (0.20.1)\n",
            "Requirement already satisfied: hypothesis==6.91.0 in /opt/homebrew/Caskroom/miniconda/base/envs/aiconfig/lib/python3.12/site-packages (from python-aiconfig==1.1.8) (6.91.0)\n",
            "Requirement already satisfied: lastmile-utils==0.0.14 in /opt/homebrew/Caskroom/miniconda/base/envs/aiconfig/lib/python3.12/site-packages (from python-aiconfig==1.1.8) (0.0.14)\n",
            "Requirement already satisfied: mock in /opt/homebrew/Caskroom/miniconda/base/envs/aiconfig/lib/python3.12/site-packages (from python-aiconfig==1.1.8) (5.1.0)\n",
            "Requirement already satisfied: nest-asyncio in /opt/homebrew/Caskroom/miniconda/base/envs/aiconfig/lib/python3.12/site-packages (from python-aiconfig==1.1.8) (1.5.8)\n",
            "Requirement already satisfied: nltk in /opt/homebrew/Caskroom/miniconda/base/envs/aiconfig/lib/python3.12/site-packages (from python-aiconfig==1.1.8) (3.8.1)\n",
            "Requirement already satisfied: openai<1.5,>=1.0.0 in /opt/homebrew/Caskroom/miniconda/base/envs/aiconfig/lib/python3.12/site-packages (from python-aiconfig==1.1.8) (1.4.0)\n",
            "Requirement already satisfied: prompt-toolkit in /opt/homebrew/Caskroom/miniconda/base/envs/aiconfig/lib/python3.12/site-packages (from python-aiconfig==1.1.8) (3.0.42)\n",
            "Requirement already satisfied: pybars3 in /opt/homebrew/Caskroom/miniconda/base/envs/aiconfig/lib/python3.12/site-packages (from python-aiconfig==1.1.8) (0.9.7)\n",
            "Requirement already satisfied: pydantic>=2.1 in /opt/homebrew/Caskroom/miniconda/base/envs/aiconfig/lib/python3.12/site-packages (from python-aiconfig==1.1.8) (2.4.2)\n",
            "Requirement already satisfied: pylint in /opt/homebrew/Caskroom/miniconda/base/envs/aiconfig/lib/python3.12/site-packages (from python-aiconfig==1.1.8) (3.0.2)\n",
            "Requirement already satisfied: pytest in /opt/homebrew/Caskroom/miniconda/base/envs/aiconfig/lib/python3.12/site-packages (from python-aiconfig==1.1.8) (7.4.3)\n",
            "Requirement already satisfied: pytest-asyncio in /opt/homebrew/Caskroom/miniconda/base/envs/aiconfig/lib/python3.12/site-packages (from python-aiconfig==1.1.8) (0.23.3)\n",
            "Requirement already satisfied: python-dotenv in /opt/homebrew/Caskroom/miniconda/base/envs/aiconfig/lib/python3.12/site-packages (from python-aiconfig==1.1.8) (1.0.0)\n",
            "Requirement already satisfied: pyyaml in /opt/homebrew/Caskroom/miniconda/base/envs/aiconfig/lib/python3.12/site-packages (from python-aiconfig==1.1.8) (6.0.1)\n",
            "Requirement already satisfied: requests in /opt/homebrew/Caskroom/miniconda/base/envs/aiconfig/lib/python3.12/site-packages (from python-aiconfig==1.1.8) (2.31.0)\n",
            "Requirement already satisfied: result in /opt/homebrew/Caskroom/miniconda/base/envs/aiconfig/lib/python3.12/site-packages (from python-aiconfig==1.1.8) (0.15.0)\n",
            "Requirement already satisfied: attrs>=19.2.0 in /opt/homebrew/Caskroom/miniconda/base/envs/aiconfig/lib/python3.12/site-packages (from hypothesis==6.91.0->python-aiconfig==1.1.8) (23.2.0)\n",
            "Requirement already satisfied: sortedcontainers<3.0.0,>=2.1.0 in /opt/homebrew/Caskroom/miniconda/base/envs/aiconfig/lib/python3.12/site-packages (from hypothesis==6.91.0->python-aiconfig==1.1.8) (2.4.0)\n",
            "Requirement already satisfied: chardet==5.2.0 in /opt/homebrew/Caskroom/miniconda/base/envs/aiconfig/lib/python3.12/site-packages (from lastmile-utils==0.0.14->python-aiconfig==1.1.8) (5.2.0)\n",
            "Requirement already satisfied: isort==5.12.0 in /opt/homebrew/Caskroom/miniconda/base/envs/aiconfig/lib/python3.12/site-packages (from lastmile-utils==0.0.14->python-aiconfig==1.1.8) (5.12.0)\n",
            "Requirement already satisfied: jsoncomment==0.4.2 in /opt/homebrew/Caskroom/miniconda/base/envs/aiconfig/lib/python3.12/site-packages (from lastmile-utils==0.0.14->python-aiconfig==1.1.8) (0.4.2)\n",
            "Requirement already satisfied: pandas==2.1.2 in /opt/homebrew/Caskroom/miniconda/base/envs/aiconfig/lib/python3.12/site-packages (from lastmile-utils==0.0.14->python-aiconfig==1.1.8) (2.1.2)\n",
            "Requirement already satisfied: pyright==1.1.335 in /opt/homebrew/Caskroom/miniconda/base/envs/aiconfig/lib/python3.12/site-packages (from lastmile-utils==0.0.14->python-aiconfig==1.1.8) (1.1.335)\n",
            "Requirement already satisfied: autoflake==2.2.1 in /opt/homebrew/Caskroom/miniconda/base/envs/aiconfig/lib/python3.12/site-packages (from lastmile-utils==0.0.14->python-aiconfig==1.1.8) (2.2.1)\n",
            "Requirement already satisfied: click>=8.0.0 in /opt/homebrew/Caskroom/miniconda/base/envs/aiconfig/lib/python3.12/site-packages (from black->python-aiconfig==1.1.8) (8.1.7)\n",
            "Requirement already satisfied: mypy-extensions>=0.4.3 in /opt/homebrew/Caskroom/miniconda/base/envs/aiconfig/lib/python3.12/site-packages (from black->python-aiconfig==1.1.8) (1.0.0)\n",
            "Requirement already satisfied: packaging>=22.0 in /opt/homebrew/Caskroom/miniconda/base/envs/aiconfig/lib/python3.12/site-packages (from black->python-aiconfig==1.1.8) (23.2)\n",
            "Requirement already satisfied: pathspec>=0.9.0 in /opt/homebrew/Caskroom/miniconda/base/envs/aiconfig/lib/python3.12/site-packages (from black->python-aiconfig==1.1.8) (0.12.1)\n",
            "Requirement already satisfied: platformdirs>=2 in /opt/homebrew/Caskroom/miniconda/base/envs/aiconfig/lib/python3.12/site-packages (from black->python-aiconfig==1.1.8) (4.1.0)\n",
            "Requirement already satisfied: mccabe<0.8.0,>=0.7.0 in /opt/homebrew/Caskroom/miniconda/base/envs/aiconfig/lib/python3.12/site-packages (from flake8->python-aiconfig==1.1.8) (0.7.0)\n",
            "Requirement already satisfied: pycodestyle<2.12.0,>=2.11.0 in /opt/homebrew/Caskroom/miniconda/base/envs/aiconfig/lib/python3.12/site-packages (from flake8->python-aiconfig==1.1.8) (2.11.1)\n",
            "Requirement already satisfied: pyflakes<3.2.0,>=3.1.0 in /opt/homebrew/Caskroom/miniconda/base/envs/aiconfig/lib/python3.12/site-packages (from flake8->python-aiconfig==1.1.8) (3.1.0)\n",
            "Requirement already satisfied: annotated-types>=0.4.0 in /opt/homebrew/Caskroom/miniconda/base/envs/aiconfig/lib/python3.12/site-packages (from pydantic>=2.1->python-aiconfig==1.1.8) (0.6.0)\n",
            "Requirement already satisfied: pydantic-core==2.10.1 in /opt/homebrew/Caskroom/miniconda/base/envs/aiconfig/lib/python3.12/site-packages (from pydantic>=2.1->python-aiconfig==1.1.8) (2.10.1)\n",
            "Requirement already satisfied: typing-extensions>=4.6.1 in /opt/homebrew/Caskroom/miniconda/base/envs/aiconfig/lib/python3.12/site-packages (from pydantic>=2.1->python-aiconfig==1.1.8) (4.9.0)\n",
            "Requirement already satisfied: astroid<=3.1.0-dev0,>=3.0.1 in /opt/homebrew/Caskroom/miniconda/base/envs/aiconfig/lib/python3.12/site-packages (from pylint->python-aiconfig==1.1.8) (3.0.2)\n",
            "Requirement already satisfied: tomlkit>=0.10.1 in /opt/homebrew/Caskroom/miniconda/base/envs/aiconfig/lib/python3.12/site-packages (from pylint->python-aiconfig==1.1.8) (0.12.3)\n",
            "Requirement already satisfied: dill>=0.3.6 in /opt/homebrew/Caskroom/miniconda/base/envs/aiconfig/lib/python3.12/site-packages (from pylint->python-aiconfig==1.1.8) (0.3.7)\n",
            "Requirement already satisfied: iniconfig in /opt/homebrew/Caskroom/miniconda/base/envs/aiconfig/lib/python3.12/site-packages (from pytest->python-aiconfig==1.1.8) (2.0.0)\n",
            "Requirement already satisfied: pluggy<2.0,>=0.12 in /opt/homebrew/Caskroom/miniconda/base/envs/aiconfig/lib/python3.12/site-packages (from pytest->python-aiconfig==1.1.8) (1.3.0)\n",
            "Requirement already satisfied: json-spec in /opt/homebrew/Caskroom/miniconda/base/envs/aiconfig/lib/python3.12/site-packages (from jsoncomment==0.4.2->lastmile-utils==0.0.14->python-aiconfig==1.1.8) (0.11.0)\n",
            "Requirement already satisfied: numpy<2,>=1.26.0 in /opt/homebrew/Caskroom/miniconda/base/envs/aiconfig/lib/python3.12/site-packages (from pandas==2.1.2->lastmile-utils==0.0.14->python-aiconfig==1.1.8) (1.26.3)\n",
            "Requirement already satisfied: python-dateutil>=2.8.2 in /opt/homebrew/Caskroom/miniconda/base/envs/aiconfig/lib/python3.12/site-packages (from pandas==2.1.2->lastmile-utils==0.0.14->python-aiconfig==1.1.8) (2.8.2)\n",
            "Requirement already satisfied: pytz>=2020.1 in /opt/homebrew/Caskroom/miniconda/base/envs/aiconfig/lib/python3.12/site-packages (from pandas==2.1.2->lastmile-utils==0.0.14->python-aiconfig==1.1.8) (2023.3.post1)\n",
            "Requirement already satisfied: tzdata>=2022.1 in /opt/homebrew/Caskroom/miniconda/base/envs/aiconfig/lib/python3.12/site-packages (from pandas==2.1.2->lastmile-utils==0.0.14->python-aiconfig==1.1.8) (2023.4)\n",
            "Requirement already satisfied: nodeenv>=1.6.0 in /opt/homebrew/Caskroom/miniconda/base/envs/aiconfig/lib/python3.12/site-packages (from pyright==1.1.335->lastmile-utils==0.0.14->python-aiconfig==1.1.8) (1.8.0)\n",
            "Requirement already satisfied: anyio<5,>=3.5.0 in /opt/homebrew/Caskroom/miniconda/base/envs/aiconfig/lib/python3.12/site-packages (from openai<1.5,>=1.0.0->python-aiconfig==1.1.8) (4.2.0)\n",
            "Requirement already satisfied: distro<2,>=1.7.0 in /opt/homebrew/Caskroom/miniconda/base/envs/aiconfig/lib/python3.12/site-packages (from openai<1.5,>=1.0.0->python-aiconfig==1.1.8) (1.9.0)\n",
            "Requirement already satisfied: httpx<1,>=0.23.0 in /opt/homebrew/Caskroom/miniconda/base/envs/aiconfig/lib/python3.12/site-packages (from openai<1.5,>=1.0.0->python-aiconfig==1.1.8) (0.26.0)\n",
            "Requirement already satisfied: sniffio in /opt/homebrew/Caskroom/miniconda/base/envs/aiconfig/lib/python3.12/site-packages (from openai<1.5,>=1.0.0->python-aiconfig==1.1.8) (1.3.0)\n",
            "Requirement already satisfied: tqdm>4 in /opt/homebrew/Caskroom/miniconda/base/envs/aiconfig/lib/python3.12/site-packages (from openai<1.5,>=1.0.0->python-aiconfig==1.1.8) (4.66.1)\n",
            "Requirement already satisfied: Werkzeug>=3.0.0 in /opt/homebrew/Caskroom/miniconda/base/envs/aiconfig/lib/python3.12/site-packages (from flask[async]->python-aiconfig==1.1.8) (3.0.1)\n",
            "Requirement already satisfied: Jinja2>=3.1.2 in /opt/homebrew/Caskroom/miniconda/base/envs/aiconfig/lib/python3.12/site-packages (from flask[async]->python-aiconfig==1.1.8) (3.1.2)\n",
            "Requirement already satisfied: itsdangerous>=2.1.2 in /opt/homebrew/Caskroom/miniconda/base/envs/aiconfig/lib/python3.12/site-packages (from flask[async]->python-aiconfig==1.1.8) (2.1.2)\n",
            "Requirement already satisfied: blinker>=1.6.2 in /opt/homebrew/Caskroom/miniconda/base/envs/aiconfig/lib/python3.12/site-packages (from flask[async]->python-aiconfig==1.1.8) (1.7.0)\n",
            "Requirement already satisfied: asgiref>=3.2 in /opt/homebrew/Caskroom/miniconda/base/envs/aiconfig/lib/python3.12/site-packages (from flask[async]->python-aiconfig==1.1.8) (3.7.2)\n",
            "Requirement already satisfied: google-ai-generativelanguage==0.4.0 in /opt/homebrew/Caskroom/miniconda/base/envs/aiconfig/lib/python3.12/site-packages (from google-generativeai->python-aiconfig==1.1.8) (0.4.0)\n",
            "Requirement already satisfied: google-auth in /opt/homebrew/Caskroom/miniconda/base/envs/aiconfig/lib/python3.12/site-packages (from google-generativeai->python-aiconfig==1.1.8) (2.26.0)\n",
            "Requirement already satisfied: google-api-core in /opt/homebrew/Caskroom/miniconda/base/envs/aiconfig/lib/python3.12/site-packages (from google-generativeai->python-aiconfig==1.1.8) (2.15.0)\n",
            "Requirement already satisfied: protobuf in /opt/homebrew/Caskroom/miniconda/base/envs/aiconfig/lib/python3.12/site-packages (from google-generativeai->python-aiconfig==1.1.8) (4.25.1)\n",
            "Requirement already satisfied: proto-plus<2.0.0dev,>=1.22.3 in /opt/homebrew/Caskroom/miniconda/base/envs/aiconfig/lib/python3.12/site-packages (from google-ai-generativelanguage==0.4.0->google-generativeai->python-aiconfig==1.1.8) (1.23.0)\n",
            "Requirement already satisfied: filelock in /opt/homebrew/Caskroom/miniconda/base/envs/aiconfig/lib/python3.12/site-packages (from huggingface-hub->python-aiconfig==1.1.8) (3.13.1)\n",
            "Requirement already satisfied: fsspec>=2023.5.0 in /opt/homebrew/Caskroom/miniconda/base/envs/aiconfig/lib/python3.12/site-packages (from huggingface-hub->python-aiconfig==1.1.8) (2023.12.2)\n",
            "Requirement already satisfied: joblib in /opt/homebrew/Caskroom/miniconda/base/envs/aiconfig/lib/python3.12/site-packages (from nltk->python-aiconfig==1.1.8) (1.3.2)\n",
            "Requirement already satisfied: regex>=2021.8.3 in /opt/homebrew/Caskroom/miniconda/base/envs/aiconfig/lib/python3.12/site-packages (from nltk->python-aiconfig==1.1.8) (2023.12.25)\n",
            "Requirement already satisfied: wcwidth in /opt/homebrew/Caskroom/miniconda/base/envs/aiconfig/lib/python3.12/site-packages (from prompt-toolkit->python-aiconfig==1.1.8) (0.2.12)\n",
            "Requirement already satisfied: PyMeta3>=0.5.1 in /opt/homebrew/Caskroom/miniconda/base/envs/aiconfig/lib/python3.12/site-packages (from pybars3->python-aiconfig==1.1.8) (0.5.1)\n",
            "Requirement already satisfied: charset-normalizer<4,>=2 in /opt/homebrew/Caskroom/miniconda/base/envs/aiconfig/lib/python3.12/site-packages (from requests->python-aiconfig==1.1.8) (3.3.2)\n",
            "Requirement already satisfied: idna<4,>=2.5 in /opt/homebrew/Caskroom/miniconda/base/envs/aiconfig/lib/python3.12/site-packages (from requests->python-aiconfig==1.1.8) (3.6)\n",
            "Requirement already satisfied: urllib3<3,>=1.21.1 in /opt/homebrew/Caskroom/miniconda/base/envs/aiconfig/lib/python3.12/site-packages (from requests->python-aiconfig==1.1.8) (2.1.0)\n",
            "Requirement already satisfied: certifi>=2017.4.17 in /opt/homebrew/Caskroom/miniconda/base/envs/aiconfig/lib/python3.12/site-packages (from requests->python-aiconfig==1.1.8) (2023.11.17)\n",
            "Requirement already satisfied: googleapis-common-protos<2.0.dev0,>=1.56.2 in /opt/homebrew/Caskroom/miniconda/base/envs/aiconfig/lib/python3.12/site-packages (from google-api-core->google-generativeai->python-aiconfig==1.1.8) (1.62.0)\n",
            "Requirement already satisfied: cachetools<6.0,>=2.0.0 in /opt/homebrew/Caskroom/miniconda/base/envs/aiconfig/lib/python3.12/site-packages (from google-auth->google-generativeai->python-aiconfig==1.1.8) (5.3.2)\n",
            "Requirement already satisfied: pyasn1-modules>=0.2.1 in /opt/homebrew/Caskroom/miniconda/base/envs/aiconfig/lib/python3.12/site-packages (from google-auth->google-generativeai->python-aiconfig==1.1.8) (0.3.0)\n",
            "Requirement already satisfied: rsa<5,>=3.1.4 in /opt/homebrew/Caskroom/miniconda/base/envs/aiconfig/lib/python3.12/site-packages (from google-auth->google-generativeai->python-aiconfig==1.1.8) (4.9)\n",
            "Requirement already satisfied: httpcore==1.* in /opt/homebrew/Caskroom/miniconda/base/envs/aiconfig/lib/python3.12/site-packages (from httpx<1,>=0.23.0->openai<1.5,>=1.0.0->python-aiconfig==1.1.8) (1.0.2)\n",
            "Requirement already satisfied: h11<0.15,>=0.13 in /opt/homebrew/Caskroom/miniconda/base/envs/aiconfig/lib/python3.12/site-packages (from httpcore==1.*->httpx<1,>=0.23.0->openai<1.5,>=1.0.0->python-aiconfig==1.1.8) (0.14.0)\n",
            "Requirement already satisfied: MarkupSafe>=2.0 in /opt/homebrew/Caskroom/miniconda/base/envs/aiconfig/lib/python3.12/site-packages (from Jinja2>=3.1.2->flask[async]->python-aiconfig==1.1.8) (2.1.3)\n",
            "Requirement already satisfied: grpcio<2.0dev,>=1.33.2 in /opt/homebrew/Caskroom/miniconda/base/envs/aiconfig/lib/python3.12/site-packages (from google-api-core[grpc]!=2.0.*,!=2.1.*,!=2.10.*,!=2.2.*,!=2.3.*,!=2.4.*,!=2.5.*,!=2.6.*,!=2.7.*,!=2.8.*,!=2.9.*,<3.0.0dev,>=1.34.0->google-ai-generativelanguage==0.4.0->google-generativeai->python-aiconfig==1.1.8) (1.60.0)\n",
            "Requirement already satisfied: grpcio-status<2.0.dev0,>=1.33.2 in /opt/homebrew/Caskroom/miniconda/base/envs/aiconfig/lib/python3.12/site-packages (from google-api-core[grpc]!=2.0.*,!=2.1.*,!=2.10.*,!=2.2.*,!=2.3.*,!=2.4.*,!=2.5.*,!=2.6.*,!=2.7.*,!=2.8.*,!=2.9.*,<3.0.0dev,>=1.34.0->google-ai-generativelanguage==0.4.0->google-generativeai->python-aiconfig==1.1.8) (1.60.0)\n",
            "Requirement already satisfied: setuptools in /opt/homebrew/Caskroom/miniconda/base/envs/aiconfig/lib/python3.12/site-packages (from nodeenv>=1.6.0->pyright==1.1.335->lastmile-utils==0.0.14->python-aiconfig==1.1.8) (69.0.3)\n",
            "Requirement already satisfied: pyasn1<0.6.0,>=0.4.6 in /opt/homebrew/Caskroom/miniconda/base/envs/aiconfig/lib/python3.12/site-packages (from pyasn1-modules>=0.2.1->google-auth->google-generativeai->python-aiconfig==1.1.8) (0.5.1)\n",
            "Requirement already satisfied: six>=1.5 in /opt/homebrew/Caskroom/miniconda/base/envs/aiconfig/lib/python3.12/site-packages (from python-dateutil>=2.8.2->pandas==2.1.2->lastmile-utils==0.0.14->python-aiconfig==1.1.8) (1.16.0)\n",
            "Requirement already satisfied: importlib-metadata<6.0.0,>=5.0.0 in /opt/homebrew/Caskroom/miniconda/base/envs/aiconfig/lib/python3.12/site-packages (from json-spec->jsoncomment==0.4.2->lastmile-utils==0.0.14->python-aiconfig==1.1.8) (5.2.0)\n",
            "Requirement already satisfied: zipp>=0.5 in /opt/homebrew/Caskroom/miniconda/base/envs/aiconfig/lib/python3.12/site-packages (from importlib-metadata<6.0.0,>=5.0.0->json-spec->jsoncomment==0.4.2->lastmile-utils==0.0.14->python-aiconfig==1.1.8) (3.17.0)\n",
            "Building wheels for collected packages: python-aiconfig\n",
            "  Building editable for python-aiconfig (pyproject.toml) ... \u001b[?25ldone\n",
            "\u001b[?25h  Created wheel for python-aiconfig: filename=python_aiconfig-1.1.8-0.editable-py3-none-any.whl size=9971 sha256=fbca0ed6d950008e262466231d7c55fab845a22af39eb637e26a284722253ad7\n",
            "  Stored in directory: /private/var/folders/mk/5l10lyqs1c73_pj2grj9f9vw0000gn/T/pip-ephem-wheel-cache-1j_z2ajl/wheels/e7/fd/a2/adfd3d754fa5bcf2040054afef13bbf40a8e091249b821d62d\n",
            "Successfully built python-aiconfig\n",
            "Installing collected packages: python-aiconfig\n",
            "  Attempting uninstall: python-aiconfig\n",
            "    Found existing installation: python-aiconfig 1.1.8\n",
            "    Uninstalling python-aiconfig-1.1.8:\n",
            "      Successfully uninstalled python-aiconfig-1.1.8\n",
            "Successfully installed python-aiconfig-1.1.8\n",
            "Note: you may need to restart the kernel to use updated packages.\n"
          ]
        }
      ],
      "source": [
        "#%pip install -e /Users/saqadri/lm/aiconfig/python\n",
        "%pip install python-aiconfig"
      ]
    },
    {
      "cell_type": "code",
      "execution_count": 1,
      "metadata": {
        "id": "sq9uM4ENFStR"
      },
      "outputs": [],
      "source": [
        "# Create .env file containing the following line:\n",
        "# ANYSCALE_ENDPOINT_API_KEY=<your key here>\n",
        "# You can get your key from https://app.endpoints.anyscale.com/docs (https://app.endpoints.anyscale.com/credentials)\n",
        "\n",
        "import dotenv\n",
        "dotenv.load_dotenv()"
      ]
    },
    {
      "attachments": {},
      "cell_type": "markdown",
      "metadata": {
        "id": "-FMlVH2bF4iN"
      },
      "source": [
        "## Load AI Config `travel.aiconfig.json`\n",
        "Download file [from here](https://github.com/lastmile-ai/aiconfig/blob/main/cookbooks/Anyscale/travel.aiconfig.json). If you're using Colab, upload to 'Files' in your colab notebook and load (shown below).\n"
      ]
    },
    {
      "cell_type": "code",
      "execution_count": 2,
      "metadata": {
        "id": "go9T1xivF4S2"
      },
      "outputs": [
        {
          "name": "stderr",
          "output_type": "stream",
          "text": [
            "/opt/homebrew/Caskroom/miniconda/base/envs/aiconfig/lib/python3.12/site-packages/pydantic/_internal/_fields.py:128: UserWarning: Field \"model_parsers\" has conflict with protected namespace \"model_\".\n",
            "\n",
            "You may be able to resolve this warning by setting `model_config['protected_namespaces'] = ()`.\n",
            "  warnings.warn(\n",
            "/opt/homebrew/Caskroom/miniconda/base/envs/aiconfig/lib/python3.12/site-packages/tqdm/auto.py:21: TqdmWarning: IProgress not found. Please update jupyter and ipywidgets. See https://ipywidgets.readthedocs.io/en/stable/user_install.html\n",
            "  from .autonotebook import tqdm as notebook_tqdm\n"
          ]
        }
      ],
      "source": [
        "from aiconfig import AIConfigRuntime, InferenceOptions, CallbackManager\n",
        "\n",
        "# Load the aiconfig.\n",
        "config = AIConfigRuntime.load('travel.aiconfig.json')\n",
        "config.callback_manager = CallbackManager([])"
      ]
    },
    {
      "attachments": {},
      "cell_type": "markdown",
      "metadata": {
        "id": "zqCchve9GINL"
      },
      "source": [
        "# Run `get_activities` prompt with streaming (llama-7b)"
      ]
    },
    {
      "cell_type": "code",
      "execution_count": 3,
      "metadata": {
        "colab": {
          "base_uri": "https://localhost:8080/"
        },
        "id": "Kd6BFPGiHPJe",
        "outputId": "f221e835-0d96-4cdc-dc3e-0908c0943955"
      },
      "outputs": [
        {
          "name": "stdout",
          "output_type": "stream",
          "text": [
            "  Sure! Here are 10 fun attractions to do in New York City:\n",
            "\n",
            "1. Take a walk across the Brooklyn Bridge: This iconic bridge offers stunning views of the Manhattan skyline, the East River, and the Brooklyn shore. It's a must-do activity for anyone visiting NYC.\n",
            "2. Explore the Metropolitan Museum of Art: With over 2 million works of art spanning 5,000 years of human history, the Met is one of the world's greatest museums. Be sure to spend at least a whole day here to see everything.\n",
            "3. Visit Central Park: This 843-acre green oasis in the middle of Manhattan offers a peaceful escape from the hustle and bustle of the city. Take a stroll through the park, rent a bike, or have a picnic on the Great Lawn.\n",
            "4. Go to a Broadway show: NYC is home to some of the world's most iconic theaters and productions. Catch a musical or play on Broadway for an unforgettable experience.\n",
            "5. Visit the 9/11 Memorial & Museum: This moving tribute to the victims of the 9/11 attacks features two large reflecting pools surrounded by the names of those who were killed, as well as a museum with artifacts and stories from that day.\n",
            "6. Take a food tour: NYC is known for its diverse culinary scene, and there are countless food tours available to explore the city's many cuisines. From pizza to bagels to dumplings, you'll find it all in NYC.\n",
            "7. Visit the Guggenheim Museum: Designed by Frank Lloyd Wright, this museum is home to a world-class collection of modern and contemporary art. Be sure to check out the iconic spiral staircase.\n",
            "8. Go shopping on Fifth Avenue: This iconic street is home to some of the world's most high-end retailers, including Saks Fifth Avenue, Bergdorf Goodman, and Tiffany & Co. Even if you're not planning to buy anything, window shopping is a fun and indulgent activity.\n",
            "9. Take a ride on the Staten Island Ferry: This free ferry takes you across the harbor to Staten Island and offers stunning views of the Manhattan skyline and the Statue of Liberty. It's a great way to see the city from a different perspective.\n",
            "10. Visit the Rockefeller Center: This complex of buildings in Midtown Manhattan is home to NBC studios, a skating rink, and the famous Christmas tree lighting ceremony. It's a fun place to explore and take photos.\n",
            "\n",
            "These are just a few of the many fun attractions that NYC has to offer. There's something for everyone in this vibrant and exciting city!"
          ]
        }
      ],
      "source": [
        "# Run a single prompt (with streaming). inference_options = InferenceOptions(stream=True)\n",
        "\n",
        "inference_options = InferenceOptions(stream=True)\n",
        "activities = await config.run(\"get_activities\", options=inference_options)"
      ]
    },
    {
      "attachments": {},
      "cell_type": "markdown",
      "metadata": {
        "id": "5Fgj5w85Sbch"
      },
      "source": [
        "# Run `gen_itinerary` prompt chain (mixtral-8x7b)\n",
        "\n",
        "**Note**: In `travel.aiconfig.json`, `gen_itinerary` is defined as:\n",
        "\n",
        "```json\n",
        "{\n",
        "    \"name\": \"gen_itinerary\",\n",
        "    \"input\": \"Generate an itinerary ordered by {{order_by}} for these activities: {{get_activities.output}}.\",\n",
        "    \"metadata\": {\n",
        "        \"model\": {\n",
        "            \"name\": \"AnyscaleEndpoint\",\n",
        "            \"settings\": {\n",
        "            \"model\": \"mistralai/Mixtral-8x7B-Instruct-v0.1\",\n",
        "            \"max_tokens\": 3000,\n",
        "            \"system_prompt\": \"You are an expert travel coordinator with exquisite taste.\"\n",
        "            }\n",
        "        },\n",
        "        \"parameters\": {\n",
        "            \"order_by\": \"geographic location\"\n",
        "        }\n",
        "    }\n",
        "}\n",
        "```\n",
        "\n",
        "This means it depends on the output of the `get_activities` prompt, and uses that to run inference with mixtral-8x7B. Let's run this prompt chain with AIConfig"
      ]
    },
    {
      "cell_type": "code",
      "execution_count": 4,
      "metadata": {
        "colab": {
          "base_uri": "https://localhost:8080/"
        },
        "id": "49xN8OiqSeMX",
        "outputId": "624b046a-2812-45b4-f875-e7cc12249845"
      },
      "outputs": [
        {
          "name": "stdout",
          "output_type": "stream",
          "text": [
            "  Sure! Here are 10 fun attractions to do in New York City:\n",
            "\n",
            "1. Visit the Statue of Liberty and Ellis Island: Take a ferry to Liberty Island to see the iconic Statue of Liberty up close and learn about its history at the nearby Ellis Island Immigration Museum.\n",
            "2. Explore the Metropolitan Museum of Art: With over 2 million works of art spanning 5,000 years of history, the Met is one of the world's largest and most comprehensive art museums.\n",
            "3. Walk across the Brooklyn Bridge: Take a stroll across this iconic bridge for spectacular views of the Manhattan skyline, the East River, and Brooklyn.\n",
            "4. See a Broadway show: New York City is home to dozens of world-class theaters and performances, including Tony-award winning shows like Hamilton, Wicked, and The Lion King.\n",
            "5. Visit Central Park: This 843-acre green oasis in the middle of Manhattan offers a peaceful escape from the hustle and bustle of the city, with plenty of walking paths, lakes, and monuments to explore.\n",
            "6. Go shopping on Fifth Avenue: From high-end designer boutiques to exclusive department stores, Fifth Avenue is the ultimate shopping destination in NYC.\n",
            "7. Visit the 9/11 Memorial & Museum: A poignant tribute to the victims of the 9/11 attacks, the memorial features two reflecting pools surrounded by the names of those who were killed, as well as a museum with artifacts and stories from that fateful day.\n",
            "8. Take a food tour: New York City is a food lover's paradise, with a diverse array of cuisines and dining options. Take a guided tour to sample some of the city's best foods, from classic pizza to artisanal doughnuts.\n",
            "9. Visit the Museum of Modern Art (MoMA): With a collection of over 200,000 works of art, MoMA is one of the world's premier modern art museums, featuring pieces by artists like Picasso, Warhol, and Pollock.\n",
            "10. Take a helicopter tour of NYC: For a unique perspective on the city, take a helicopter tour of New York City's iconic skyline and landmarks. You'll soar over the Hudson River and get a bird's-eye view of Manhattan's towering skyscrapers, bridges, and parks.\n",
            "\n",
            "These are just a few of the many fun attractions to explore in New York City. Depending on your interests, there are countless other activities and experiences to enjoy in the city that never sleeps! 1. Private guided tour of the Louvre Museum (2-3 hours)\n",
            "Begin your journey with a private guided tour of the Louvre Museum, the world's largest art museum and a historic monument in Paris. This tour will allow you to explore the museum's most famous works, including the Mona Lisa, the Winged Victory of Samothrace, and the Venus de Milo, with a knowledgeable guide who can provide context and insight into the artwork.\n",
            "\n",
            "2. Champagne tasting at a prestigious champagne house in Reims (2 hours)\n",
            "Next, head to Reims, a city in the Champagne region of France, for a private champagne tasting at a prestigious champagne house such as Taittinger, Veuve Clicquot, or Ruinart. You'll learn about the history and production methods of champagne, as well as have the opportunity to taste a selection of their finest bubbly.\n",
            "\n",
            "3. Lunch at a Michelin-starred restaurant in Reims (1.5-2 hours)\n",
            "Treat yourself to lunch at one of Reims' Michelin-starred restaurants, such as Le Foch, where you can sample local specialties such as Jambon de Reims, or Reims ham, and indulge in expertly prepared dishes made with fresh, seasonal ingredients.\n",
            "\n",
            "4. Private guided tour of the Palace of Versailles (3-4 hours)\n",
            "No trip to France would be complete without a visit to the Palace of Versailles, the opulent palace and gardens of the French monarchy. A private guided tour will allow you to explore the palace's grand halls, ornate apartments, and incomparable art collections, as well as stroll through the meticulously manicured gardens and fountains.\n",
            "\n",
            "5. Seine River dinner cruise (2-3 hours)\n",
            "End your day with a romantic Seine River dinner cruise, where you'll float past some of Paris' most iconic landmarks, including the Eiffel Tower, Notre-Dame Cathedral, and the Louvre Museum, all while enjoying a delicious meal and live music.\n",
            "\n",
            "6. Private guided tour of Montmartre and Sacré-Coeur Basilica (2-3 hours)\n",
            "Begin your second day with a private guided tour of Montmartre, the historic and artistic neighborhood atop a hill in Paris. This tour will take you through the charming streets of Montmartre, past the Moulin Rouge and the Place du Tertre, to the iconic white-domed Basilica of Sacré-Coeur.\n",
            "\n",
            "7. Cooking class at a professional cooking school in Paris (3-4 hours)\n",
            "Next, immerse yourself in French culinary traditions with a private cooking class at a professional cooking school. You'll learn how to prepare classic French dishes such as coq au vin, ratatouille, or tarte tatin, and have the opportunity to enjoy the fruits of your labor for lunch.\n",
            "\n",
            "8. Private guided tour of the Musée d'Orsay (2-3 hours)\n",
            "End your trip with a private guided tour of the Musée d'Orsay, a museum located in a former railway station, which houses a vast collection of Impressionist and Post-Impressionist art. This tour will allow you to see works by artists such as Monet, Renoir, Degas, and Van Gogh, and gain a deeper understanding of the artistic movements that defined this period."
          ]
        }
      ],
      "source": [
        "# This time, let's also add a callback manager to log more detailed events\n",
        "config.callback_manager = CallbackManager.create_default_manager()\n",
        "\n",
        "itinerary = await config.run(\n",
        "    \"gen_itinerary\",\n",
        "    params={\"order_by\": \"duration\"},\n",
        "    run_with_dependencies=True,\n",
        "    options=inference_options)"
      ]
    },
    {
      "attachments": {},
      "cell_type": "markdown",
      "metadata": {
        "id": "7DTy5qLpRxlx"
      },
      "source": [
        "# Add prompt to config"
      ]
    },
    {
      "cell_type": "code",
      "execution_count": 5,
      "metadata": {
        "colab": {
          "base_uri": "https://localhost:8080/"
        },
        "id": "xjdyaO9HRvFr",
        "outputId": "dd6d3b67-88e4-4a8e-b4c4-58919a6a40b1"
      },
      "outputs": [],
      "source": [
        "# Add gen_packing_list as a prompt to config\n",
        "model = \"gpt-3.5-turbo\"\n",
        "data = {\n",
        "    \"model\": model,\n",
        "    \"messages\": [\n",
        "        {\n",
        "            \"role\": \"system\",\n",
        "            \"content\": \"You provide a bulleted list of items to pack for a week long trip.\"\n",
        "        },\n",
        "        {\n",
        "            \"role\": \"user\",\n",
        "            \"content\": \"What should I bring to {{location}}?\"\n",
        "        }\n",
        "    ]\n",
        "}\n",
        "\n",
        "new_prompts = await config.serialize(model, data, prompt_name=\"gen_packing_list\", params={\"location\": \"nyc\"})\n",
        "config.add_prompt(prompt_name=\"gen_packing_list\", prompt_data=new_prompts[0])"
      ]
    },
    {
      "cell_type": "code",
      "execution_count": 7,
      "metadata": {
        "colab": {
          "base_uri": "https://localhost:8080/"
        },
        "id": "O9b_n26SsSZt",
        "outputId": "0178d7ae-758e-4135-f452-75ee6ac19c41"
      },
      "outputs": [
        {
          "name": "stdout",
          "output_type": "stream",
          "text": [
            "- Clothes for a week, including underwear, socks, and sleepwear\n",
            "- Outerwear appropriate for the weather (jacket, coat, or sweater)\n",
            "- Comfortable shoes for walking\n",
            "- Toiletries (toothbrush, toothpaste, shampoo, conditioner, soap, etc.)\n",
            "- Medications, if needed\n",
            "- Phone charger and other electronic accessories\n",
            "- Personal identification and travel documents (ID, passport, visa, etc.)\n",
            "- Wallet with cash and/or credit cards\n",
            "- Travel-sized umbrella or raincoat, depending on the weather forecast\n",
            "- Snacks and water bottle for the journey\n",
            "- Any necessary electronics or gadgets (camera, laptop, etc.)\n",
            "- Entertainment options (books, magazines, headphones, etc.)\n",
            "- Travel adapter, if necessary\n",
            "- Maps or guidebook of NYC\n",
            "- Sunscreen and sunglasses, if visiting during summer or sunny weather\n",
            "- Light backpack or day bag for touring around the city\n",
            "- Any special items specific to your needs or interests (art supplies, workout gear, etc.)"
          ]
        }
      ],
      "source": [
        "packing_list = await config.run(\"gen_packing_list\", params=None, options=inference_options)"
      ]
    },
    {
      "cell_type": "markdown",
      "metadata": {},
      "source": [
        "## Pause and appreciate what we just did\n",
        "\n",
        "We ran the `get_activities` prompt with LLaMA-7B, the `gen_itinerary` prompt (which depends on `get_activities`) with Mixtral-8x7B, and now just added a `gen_packing_list` prompt with gpt-3.5. \n",
        "\n",
        "Anyscale helps us get optimized inference for open source models, and AIConfig enables us to mix and match different model providers (OpenAI, Anyscale and others) in a model-agnostic generative AI application."
      ]
    },
    {
      "attachments": {},
      "cell_type": "markdown",
      "metadata": {
        "id": "q9deFcBK55yN"
      },
      "source": [
        "# 5. Save the AIConfig\n"
      ]
    },
    {
      "cell_type": "code",
      "execution_count": 8,
      "metadata": {
        "id": "9BR4-nGxSth7"
      },
      "outputs": [],
      "source": [
        "# Save the aiconfig to disk. and serialize outputs from the model run\n",
        "config.save('updated.aiconfig.json', include_outputs=True)"
      ]
    },
    {
      "cell_type": "markdown",
      "metadata": {},
      "source": [
        "### Save the aiconfig as a YAML file\n",
        "\n",
        "AIConfig supports both JSON and YAML modes, allowing you to save a config representing the generative AI signature of your AI application in the format of your choice."
      ]
    },
    {
      "cell_type": "code",
      "execution_count": 10,
      "metadata": {},
      "outputs": [],
      "source": [
        "config.save('travel.aiconfig.yaml', include_outputs=False, mode=\"yaml\")"
      ]
    },
    {
      "attachments": {},
      "cell_type": "markdown",
      "metadata": {
        "id": "JLiElYyC6DB-"
      },
      "source": [
        "# 6. Open the AIConfig in AI Workbook Playground\n",
        "1. Download `updated.aiconfig.json`.\n",
        "2. Go to https://lastmileai.dev.\n",
        "3. Go to Workbooks page: https://lastmileai.dev/workbooks.\n",
        "4. Click dropdown '+New Workbook' and select 'Create from AIConfig'\n",
        "5. Upload `updated.aiconfig.json`.\n",
        "\n",
        "Try out the workbook playground here: [NYC Travel Workbook](https://lastmileai.dev/workbooks/clooqs3p200kkpe53u6n2rhr9)"
      ]
    }
  ],
  "metadata": {
    "colab": {
      "provenance": []
    },
    "kernelspec": {
      "display_name": "Python 3",
      "name": "python3"
    },
    "language_info": {
      "codemirror_mode": {
        "name": "ipython",
        "version": 3
      },
      "file_extension": ".py",
      "mimetype": "text/x-python",
      "name": "python",
      "nbconvert_exporter": "python",
      "pygments_lexer": "ipython3",
      "version": "3.12.1"
    }
  },
  "nbformat": 4,
  "nbformat_minor": 0
}
