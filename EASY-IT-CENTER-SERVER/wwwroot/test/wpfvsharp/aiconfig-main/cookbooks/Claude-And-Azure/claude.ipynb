{
 "cells": [
  {
   "cell_type": "markdown",
   "metadata": {},
   "source": [
    "## Claude"
   ]
  },
  {
   "cell_type": "code",
   "execution_count": null,
   "metadata": {},
   "outputs": [],
   "source": [
    "from aiconfig import AIConfigRuntime\n",
    "aiconfig=AIConfigRuntime.load(\"./claude.aiconfig.json\")\n",
    "\n",
    "#Can use this directly in code after editing \n",
    "prompt_output = aiconfig.get_prompt(\"multilinguality\").outputs\n",
    "if prompt_output:\n",
    "    print(prompt_output[0].data)\n",
    "else:\n",
    "    print(\"No outputs yet!\")"
   ]
  },
  {
   "cell_type": "code",
   "execution_count": null,
   "metadata": {},
   "outputs": [],
   "source": [
    "# Can also run this directly from the AIConfig SDK\n",
    "from aiconfig import InferenceOptions\n",
    "\n",
    "# Re-load from aiconfig.json file\n",
    "aiconfig=AIConfigRuntime.load(\"./claude.aiconfig.json\")\n",
    "\n",
    "def stream_callback (data, _accumulated_data, _index):\n",
    "    print(data, end=\"\")\n",
    "options = InferenceOptions(stream_callback=stream_callback)\n",
    "\n",
    "await aiconfig.run(prompt_name=\"multilinguality\", options=options)"
   ]
  },
  {
   "cell_type": "code",
   "execution_count": null,
   "metadata": {},
   "outputs": [],
   "source": [
    "from aiconfig import AIConfigRuntime\n",
    "#Using SDK to change the file\n",
    "\n",
    "# Re-load from aiconfig.json file\n",
    "aiconfig=AIConfigRuntime.load(\"./claude.aiconfig.json\")\n",
    "aiconfig.set_description(\"This is a new description\")\n",
    "aiconfig.save(\"./claude.aiconfig.json\")"
   ]
  }
 ],
 "metadata": {
  "kernelspec": {
   "display_name": "Python 3",
   "language": "python",
   "name": "python3"
  },
  "language_info": {
   "codemirror_mode": {
    "name": "ipython",
    "version": 3
   },
   "file_extension": ".py",
   "mimetype": "text/x-python",
   "name": "python",
   "nbconvert_exporter": "python",
   "pygments_lexer": "ipython3",
   "version": "3.11.6"
  }
 },
 "nbformat": 4,
 "nbformat_minor": 2
}
