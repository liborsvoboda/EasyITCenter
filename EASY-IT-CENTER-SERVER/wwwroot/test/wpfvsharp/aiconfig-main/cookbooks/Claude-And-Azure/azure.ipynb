{
 "cells": [
  {
   "cell_type": "markdown",
   "metadata": {},
   "source": [
    "## Azure"
   ]
  },
  {
   "cell_type": "code",
   "execution_count": 2,
   "metadata": {},
   "outputs": [
    {
     "name": "stderr",
     "output_type": "stream",
     "text": [
      "/Users/rossdancraig/.pyenv/versions/3.11.6/lib/python3.11/site-packages/pydantic/_internal/_fields.py:128: UserWarning: Field \"model_parsers\" has conflict with protected namespace \"model_\".\n",
      "\n",
      "You may be able to resolve this warning by setting `model_config['protected_namespaces'] = ()`.\n",
      "  warnings.warn(\n"
     ]
    }
   ],
   "source": [
    "from aiconfig import AIConfigRuntime, AzureOpenAIParser\n",
    "# This deployment id is specific to LastMile!!\n",
    "azure_gpt_35 = AzureOpenAIParser(deployment=\"gpt-35-turbo\")\n",
    "from aiconfig import ModelParserRegistry\n",
    "ModelParserRegistry.register_model_parser(azure_gpt_35)"
   ]
  },
  {
   "cell_type": "code",
   "execution_count": 3,
   "metadata": {},
   "outputs": [
    {
     "data": {
      "text/plain": [
       "True"
      ]
     },
     "execution_count": 3,
     "metadata": {},
     "output_type": "execute_result"
    }
   ],
   "source": [
    "# You will need to initialize these env variables in a .env file\n",
    "# AZURE_OPENAI_KEY\n",
    "# AZURE_OPENAI_API_KEY\n",
    "# AZURE_OPENAI_ENDPOINT\n",
    "# OPENAI_API_VERSION: https://stackoverflow.com/questions/76475419/how-can-i-select-the-proper-openai-api-version\n",
    "import dotenv\n",
    "dotenv.load_dotenv()"
   ]
  },
  {
   "cell_type": "code",
   "execution_count": 4,
   "metadata": {},
   "outputs": [
    {
     "name": "stdout",
     "output_type": "stream",
     "text": [
      "Of course! Here are a few translations for the word \"horse\" in different languages:\n",
      "\n",
      "1. Spanish: caballo\n",
      "2. French: cheval\n",
      "3. German: Pferd\n",
      "4. Italian: cavallo\n",
      "5. Portuguese: cavalo\n",
      "6. Russian: лошадь (loshad')\n",
      "7. Japanese: 馬 (uma)\n",
      "8. Chinese: 马 (mǎ)\n",
      "9. Arabic: حصان (hesan)\n",
      "10. Hindi: घोड़ा (ghora)\n",
      "\n",
      "Please note that pronunciation may vary slightly between different dialects and regions.\n"
     ]
    }
   ],
   "source": [
    "aiconfig=AIConfigRuntime.load(\"./azure.aiconfig.json\")\n",
    "prompt_output = aiconfig.get_prompt(\"multilinguality\").outputs\n",
    "if prompt_output:\n",
    "    print(prompt_output[0].data)\n",
    "else:\n",
    "    print(\"No outputs yet!\")"
   ]
  },
  {
   "cell_type": "code",
   "execution_count": 5,
   "metadata": {},
   "outputs": [
    {
     "name": "stdout",
     "output_type": "stream",
     "text": [
      "Certainly! The word for \"turtle\" in Chinese is \"龟\" (guī). Pronouncing Chinese characters can be a bit challenging for non-native speakers, but I'll do my best to explain the pronunciation.\n",
      "\n",
      "In the case of \"guī,\" the pronunciation can be broken down into two sounds:\n",
      "\n",
      "1. The initial sound \"g\" is pronounced similarly to the English \"g\" in \"good\" or \"go.\" It is a hard, unaspirated sound made at the back of the throat.\n",
      "2. The final sound \"uī\" rhymes with the English word \"way.\" It is a combination of the \"oo\" sound as in \"food\" or \"boot\" and the \"ee\" sound as in \"sheep\" or \"see.\" \n",
      "\n",
      "So, when you put both sounds together, you should pronounce \"龟\" (guī) as \"gway\" with a soft \"g\" sound at the beginning.\n",
      "\n",
      "Remember that practicing Chinese pronunciation may require some time and effort to master, so don't hesitate to listen to native speakers or use online pronunciation resources for reference."
     ]
    },
    {
     "data": {
      "text/plain": [
       "[ExecuteResult(output_type='execute_result', execution_count=0, data='Certainly! The word for \"turtle\" in Chinese is \"龟\" (guī). Pronouncing Chinese characters can be a bit challenging for non-native speakers, but I\\'ll do my best to explain the pronunciation.\\n\\nIn the case of \"guī,\" the pronunciation can be broken down into two sounds:\\n\\n1. The initial sound \"g\" is pronounced similarly to the English \"g\" in \"good\" or \"go.\" It is a hard, unaspirated sound made at the back of the throat.\\n2. The final sound \"uī\" rhymes with the English word \"way.\" It is a combination of the \"oo\" sound as in \"food\" or \"boot\" and the \"ee\" sound as in \"sheep\" or \"see.\" \\n\\nSo, when you put both sounds together, you should pronounce \"龟\" (guī) as \"gway\" with a soft \"g\" sound at the beginning.\\n\\nRemember that practicing Chinese pronunciation may require some time and effort to master, so don\\'t hesitate to listen to native speakers or use online pronunciation resources for reference.', mime_type=None, metadata={'id': 'chatcmpl-8n9KcciOizaINPxhfkUBYXUq5mves', 'created': 1706724634, 'model': 'gpt-35-turbo', 'object': 'chat.completion.chunk', 'raw_response': {'role': 'assistant', 'content': 'Certainly! The word for \"turtle\" in Chinese is \"龟\" (guī). Pronouncing Chinese characters can be a bit challenging for non-native speakers, but I\\'ll do my best to explain the pronunciation.\\n\\nIn the case of \"guī,\" the pronunciation can be broken down into two sounds:\\n\\n1. The initial sound \"g\" is pronounced similarly to the English \"g\" in \"good\" or \"go.\" It is a hard, unaspirated sound made at the back of the throat.\\n2. The final sound \"uī\" rhymes with the English word \"way.\" It is a combination of the \"oo\" sound as in \"food\" or \"boot\" and the \"ee\" sound as in \"sheep\" or \"see.\" \\n\\nSo, when you put both sounds together, you should pronounce \"龟\" (guī) as \"gway\" with a soft \"g\" sound at the beginning.\\n\\nRemember that practicing Chinese pronunciation may require some time and effort to master, so don\\'t hesitate to listen to native speakers or use online pronunciation resources for reference.'}, 'role': 'assistant'})]"
      ]
     },
     "execution_count": 5,
     "metadata": {},
     "output_type": "execute_result"
    }
   ],
   "source": [
    "from aiconfig import InferenceOptions\n",
    "options = InferenceOptions(stream_callback= lambda x,y,z: print(x.get(\"content\", \"\"), end=\"\"))\n",
    "await aiconfig.run(prompt_name=\"pronounciation\", options=options)"
   ]
  },
  {
   "cell_type": "code",
   "execution_count": 6,
   "metadata": {},
   "outputs": [
    {
     "name": "stdout",
     "output_type": "stream",
     "text": [
      "Apologies for the confusion in my previous response. It seems I mistakenly provided the pronunciation guide for the word \"turtle.\" \n",
      "To clarify, the pronunciation of \"horse\" in Chinese is \"mǎ\". Here's a breakdown of the sounds:\n",
      "\n",
      "1. The initial sound \"m\" is pronounced similarly to the English \"m\" in \"mother\" or \"man.\" It is a nasal sound made by closing your lips gently and allowing air to flow through your nose.\n",
      "2. The final sound \"ǎ\" is a bit trickier. It is a combination of a neutral \"a\" sound (similar to \"uh\" in \"huh\") and the third tone in Mandarin Chinese. The third tone is a low pitch that starts low, then dips even lower before rising slightly. The \"ǎ\" sound can be challenging to explain in text, so it might be helpful to listen to audio examples to get the hang of it.\n",
      "\n",
      "So, when you put both sounds together, \"horse\" is pronounced as \"mǎ\" in Mandarin Chinese.\n",
      "\n",
      "I apologize for the error and any confusion it may have caused.Apologies for the confusion. Let me provide you with the correct pronunciation of \"dog\" in Chinese.\n",
      "\n",
      "The word for \"dog\" in Chinese is \"狗\" (gǒu). Here's a breakdown of the pronunciation:\n",
      "\n",
      "1. The initial sound \"g\" is pronounced as a soft \"g\" sound, similar to the \"g\" in \"good\" or \"get.\"\n",
      "2. The final sound \"ǒu\" is pronounced as a combination of the \"oh\" sound as in \"go\" and the \"oo\" sound as in \"soon.\"\n",
      "\n",
      "When you put both sounds together, you should pronounce \"狗\" (gǒu) as \"go-oo\" with a soft \"g\" sound at the beginning.\n",
      "\n",
      "Remember that Chinese pronunciation can vary depending on the regional accent, so it's always helpful to listen to native speakers to get a more accurate understanding of the pronunciation.I apologize for the confusion in my previous response. It seems there was a mistake in understanding your question. You specifically asked about the pronunciation of \"cat\" in Chinese. I apologize for the oversight.\n",
      "\n",
      "The word for \"cat\" in Mandarin Chinese is \"猫\" (māo). The pronunciation can be broken down as follows:\n",
      "\n",
      "1. The initial sound \"m\" is pronounced like the English \"m\" in \"man\" or \"me\". It is a nasal sound produced by closing your lips together and allowing air to flow through your nose.\n",
      "2. The final sound \"āo\" is pronounced like the vowel sound in \"how\" or \"cow\". It is a long, open vowel sound.\n",
      "\n",
      "Therefore, when you put both sounds together, you should pronounce \"猫\" (māo) as \"mao\" with a long 'a' sound.\n",
      "\n",
      "Once again, I apologize for the misunderstanding and any inconvenience caused.Apologies for the confusion. I misunderstood your request. The word for \"bird\" in Chinese is \"鸟\" (niǎo).\n",
      "\n",
      "Here's a breakdown of its pronunciation:\n",
      "\n",
      "1. The initial sound \"ni\" is pronounced like the English word \"knee\" but without the \"k\" sound at the beginning. It's a mixture of the \"n\" sound followed by a short \"ee\" sound, similar to the \"ni\" in \"niece\".\n",
      "2. The final sound \"ǎo\" is a combination of the \"a\" sound as in \"father\" or \"car\" and the \"o\" sound as in \"go\" or \"no\".\n",
      "\n",
      "So, when you put both sounds together, you should pronounce \"鸟\" (niǎo) as \"neo\" with a slight rising tone on the \"ne\" part.\n",
      "\n",
      "Again, I apologize for the previous incorrect response, and I hope this helps clarify the pronunciation of \"bird\" in Chinese."
     ]
    }
   ],
   "source": [
    "from aiconfig import InferenceOptions\n",
    "options = InferenceOptions(stream_callback= lambda x,y,z: print(x.get(\"content\", \"\"), end=\"\"))\n",
    "animals = [\"horse\", \"dog\", \"cat\", \"bird\"]\n",
    "for animal in animals:\n",
    "    await aiconfig.run(prompt_name=\"set_params_in_code\", params={\"animal\": animal}, options=options)"
   ]
  }
 ],
 "metadata": {
  "kernelspec": {
   "display_name": "Python 3",
   "language": "python",
   "name": "python3"
  },
  "language_info": {
   "codemirror_mode": {
    "name": "ipython",
    "version": 3
   },
   "file_extension": ".py",
   "mimetype": "text/x-python",
   "name": "python",
   "nbconvert_exporter": "python",
   "pygments_lexer": "ipython3",
   "version": "3.11.6"
  }
 },
 "nbformat": 4,
 "nbformat_minor": 2
}
