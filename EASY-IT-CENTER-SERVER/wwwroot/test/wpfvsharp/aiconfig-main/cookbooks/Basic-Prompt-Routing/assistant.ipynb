{
  "cells": [
    {
      "attachments": {},
      "cell_type": "markdown",
      "metadata": {
        "id": "kNmnUZnUFzt3"
      },
      "source": [
        "# Installation and Setup"
      ]
    },
    {
      "cell_type": "code",
      "execution_count": 1,
      "metadata": {
        "id": "sq9uM4ENFStR"
      },
      "outputs": [
        {
          "name": "stdout",
          "output_type": "stream",
          "text": [
            "Requirement already satisfied: python-aiconfig in /Users/saqadri/lm/aiconfig2/.conda/lib/python3.11/site-packages (1.1.33)\n",
            "Requirement already satisfied: anthropic-bedrock in /Users/saqadri/lm/aiconfig2/.conda/lib/python3.11/site-packages (from python-aiconfig) (0.8.0)\n",
            "Requirement already satisfied: black in /Users/saqadri/lm/aiconfig2/.conda/lib/python3.11/site-packages (from python-aiconfig) (23.11.0)\n",
            "Requirement already satisfied: flake8 in /Users/saqadri/lm/aiconfig2/.conda/lib/python3.11/site-packages (from python-aiconfig) (6.1.0)\n",
            "Requirement already satisfied: flask-cors in /Users/saqadri/lm/aiconfig2/.conda/lib/python3.11/site-packages (from python-aiconfig) (4.0.0)\n",
            "Requirement already satisfied: flask[async] in /Users/saqadri/lm/aiconfig2/.conda/lib/python3.11/site-packages (from python-aiconfig) (3.0.2)\n",
            "Requirement already satisfied: frozendict in /Users/saqadri/lm/aiconfig2/.conda/lib/python3.11/site-packages (from python-aiconfig) (2.4.0)\n",
            "Requirement already satisfied: google-generativeai>=0.3.1 in /Users/saqadri/lm/aiconfig2/.conda/lib/python3.11/site-packages (from python-aiconfig) (0.3.2)\n",
            "Requirement already satisfied: huggingface-hub<=0.21.4,>=0.20.3 in /Users/saqadri/lm/aiconfig2/.conda/lib/python3.11/site-packages (from python-aiconfig) (0.20.3)\n",
            "Requirement already satisfied: hypothesis==6.91.0 in /Users/saqadri/lm/aiconfig2/.conda/lib/python3.11/site-packages (from python-aiconfig) (6.91.0)\n",
            "Requirement already satisfied: lastmile-utils==0.0.23 in /Users/saqadri/lm/aiconfig2/.conda/lib/python3.11/site-packages (from python-aiconfig) (0.0.23)\n",
            "Requirement already satisfied: nest-asyncio in /Users/saqadri/lm/aiconfig2/.conda/lib/python3.11/site-packages (from python-aiconfig) (1.6.0)\n",
            "Requirement already satisfied: nltk in /Users/saqadri/lm/aiconfig2/.conda/lib/python3.11/site-packages (from python-aiconfig) (3.8.1)\n",
            "Requirement already satisfied: openai>=1.13.3 in /Users/saqadri/lm/aiconfig2/.conda/lib/python3.11/site-packages (from python-aiconfig) (1.16.2)\n",
            "Requirement already satisfied: prompt-toolkit in /Users/saqadri/lm/aiconfig2/.conda/lib/python3.11/site-packages (from python-aiconfig) (3.0.42)\n",
            "Requirement already satisfied: pybars3 in /Users/saqadri/lm/aiconfig2/.conda/lib/python3.11/site-packages (from python-aiconfig) (0.9.7)\n",
            "Requirement already satisfied: pydantic>=2.1 in /Users/saqadri/lm/aiconfig2/.conda/lib/python3.11/site-packages (from python-aiconfig) (2.4.2)\n",
            "Requirement already satisfied: pylint in /Users/saqadri/lm/aiconfig2/.conda/lib/python3.11/site-packages (from python-aiconfig) (3.0.2)\n",
            "Requirement already satisfied: python-dotenv in /Users/saqadri/lm/aiconfig2/.conda/lib/python3.11/site-packages (from python-aiconfig) (1.0.0)\n",
            "Requirement already satisfied: pyyaml in /Users/saqadri/lm/aiconfig2/.conda/lib/python3.11/site-packages (from python-aiconfig) (6.0.1)\n",
            "Requirement already satisfied: requests in /Users/saqadri/lm/aiconfig2/.conda/lib/python3.11/site-packages (from python-aiconfig) (2.31.0)\n",
            "Requirement already satisfied: result in /Users/saqadri/lm/aiconfig2/.conda/lib/python3.11/site-packages (from python-aiconfig) (0.16.0)\n",
            "Requirement already satisfied: ruamel.yaml in /Users/saqadri/lm/aiconfig2/.conda/lib/python3.11/site-packages (from python-aiconfig) (0.18.6)\n",
            "Requirement already satisfied: attrs>=19.2.0 in /Users/saqadri/lm/aiconfig2/.conda/lib/python3.11/site-packages (from hypothesis==6.91.0->python-aiconfig) (23.2.0)\n",
            "Requirement already satisfied: sortedcontainers<3.0.0,>=2.1.0 in /Users/saqadri/lm/aiconfig2/.conda/lib/python3.11/site-packages (from hypothesis==6.91.0->python-aiconfig) (2.4.0)\n",
            "Requirement already satisfied: chardet==5.2.0 in /Users/saqadri/lm/aiconfig2/.conda/lib/python3.11/site-packages (from lastmile-utils==0.0.23->python-aiconfig) (5.2.0)\n",
            "Requirement already satisfied: isort==5.12.0 in /Users/saqadri/lm/aiconfig2/.conda/lib/python3.11/site-packages (from lastmile-utils==0.0.23->python-aiconfig) (5.12.0)\n",
            "Requirement already satisfied: jsoncomment==0.4.2 in /Users/saqadri/lm/aiconfig2/.conda/lib/python3.11/site-packages (from lastmile-utils==0.0.23->python-aiconfig) (0.4.2)\n",
            "Requirement already satisfied: pandas==2.1.2 in /Users/saqadri/lm/aiconfig2/.conda/lib/python3.11/site-packages (from lastmile-utils==0.0.23->python-aiconfig) (2.1.2)\n",
            "Requirement already satisfied: pyright==1.1.335 in /Users/saqadri/lm/aiconfig2/.conda/lib/python3.11/site-packages (from lastmile-utils==0.0.23->python-aiconfig) (1.1.335)\n",
            "Requirement already satisfied: pytest==7.4.3 in /Users/saqadri/lm/aiconfig2/.conda/lib/python3.11/site-packages (from lastmile-utils==0.0.23->python-aiconfig) (7.4.3)\n",
            "Requirement already satisfied: autoflake==2.2.1 in /Users/saqadri/lm/aiconfig2/.conda/lib/python3.11/site-packages (from lastmile-utils==0.0.23->python-aiconfig) (2.2.1)\n",
            "Requirement already satisfied: click>=8.0.0 in /Users/saqadri/lm/aiconfig2/.conda/lib/python3.11/site-packages (from black->python-aiconfig) (8.1.7)\n",
            "Requirement already satisfied: mypy-extensions>=0.4.3 in /Users/saqadri/lm/aiconfig2/.conda/lib/python3.11/site-packages (from black->python-aiconfig) (1.0.0)\n",
            "Requirement already satisfied: packaging>=22.0 in /Users/saqadri/lm/aiconfig2/.conda/lib/python3.11/site-packages (from black->python-aiconfig) (23.2)\n",
            "Requirement already satisfied: pathspec>=0.9.0 in /Users/saqadri/lm/aiconfig2/.conda/lib/python3.11/site-packages (from black->python-aiconfig) (0.12.1)\n",
            "Requirement already satisfied: platformdirs>=2 in /Users/saqadri/lm/aiconfig2/.conda/lib/python3.11/site-packages (from black->python-aiconfig) (4.2.0)\n",
            "Requirement already satisfied: mccabe<0.8.0,>=0.7.0 in /Users/saqadri/lm/aiconfig2/.conda/lib/python3.11/site-packages (from flake8->python-aiconfig) (0.7.0)\n",
            "Requirement already satisfied: pycodestyle<2.12.0,>=2.11.0 in /Users/saqadri/lm/aiconfig2/.conda/lib/python3.11/site-packages (from flake8->python-aiconfig) (2.11.1)\n",
            "Requirement already satisfied: pyflakes<3.2.0,>=3.1.0 in /Users/saqadri/lm/aiconfig2/.conda/lib/python3.11/site-packages (from flake8->python-aiconfig) (3.1.0)\n",
            "Requirement already satisfied: astroid<=3.1.0-dev0,>=3.0.1 in /Users/saqadri/lm/aiconfig2/.conda/lib/python3.11/site-packages (from pylint->python-aiconfig) (3.0.3)\n",
            "Requirement already satisfied: tomlkit>=0.10.1 in /Users/saqadri/lm/aiconfig2/.conda/lib/python3.11/site-packages (from pylint->python-aiconfig) (0.12.3)\n",
            "Requirement already satisfied: dill>=0.3.6 in /Users/saqadri/lm/aiconfig2/.conda/lib/python3.11/site-packages (from pylint->python-aiconfig) (0.3.8)\n",
            "Requirement already satisfied: json-spec in /Users/saqadri/lm/aiconfig2/.conda/lib/python3.11/site-packages (from jsoncomment==0.4.2->lastmile-utils==0.0.23->python-aiconfig) (0.11.0)\n",
            "Requirement already satisfied: numpy<2,>=1.23.2 in /Users/saqadri/lm/aiconfig2/.conda/lib/python3.11/site-packages (from pandas==2.1.2->lastmile-utils==0.0.23->python-aiconfig) (1.26.4)\n",
            "Requirement already satisfied: python-dateutil>=2.8.2 in /Users/saqadri/lm/aiconfig2/.conda/lib/python3.11/site-packages (from pandas==2.1.2->lastmile-utils==0.0.23->python-aiconfig) (2.8.2)\n",
            "Requirement already satisfied: pytz>=2020.1 in /Users/saqadri/lm/aiconfig2/.conda/lib/python3.11/site-packages (from pandas==2.1.2->lastmile-utils==0.0.23->python-aiconfig) (2024.1)\n",
            "Requirement already satisfied: tzdata>=2022.1 in /Users/saqadri/lm/aiconfig2/.conda/lib/python3.11/site-packages (from pandas==2.1.2->lastmile-utils==0.0.23->python-aiconfig) (2023.4)\n",
            "Requirement already satisfied: nodeenv>=1.6.0 in /Users/saqadri/lm/aiconfig2/.conda/lib/python3.11/site-packages (from pyright==1.1.335->lastmile-utils==0.0.23->python-aiconfig) (1.8.0)\n",
            "Requirement already satisfied: iniconfig in /Users/saqadri/lm/aiconfig2/.conda/lib/python3.11/site-packages (from pytest==7.4.3->lastmile-utils==0.0.23->python-aiconfig) (2.0.0)\n",
            "Requirement already satisfied: pluggy<2.0,>=0.12 in /Users/saqadri/lm/aiconfig2/.conda/lib/python3.11/site-packages (from pytest==7.4.3->lastmile-utils==0.0.23->python-aiconfig) (1.4.0)\n",
            "Requirement already satisfied: google-ai-generativelanguage==0.4.0 in /Users/saqadri/lm/aiconfig2/.conda/lib/python3.11/site-packages (from google-generativeai>=0.3.1->python-aiconfig) (0.4.0)\n",
            "Requirement already satisfied: google-auth in /Users/saqadri/lm/aiconfig2/.conda/lib/python3.11/site-packages (from google-generativeai>=0.3.1->python-aiconfig) (2.27.0)\n",
            "Requirement already satisfied: google-api-core in /Users/saqadri/lm/aiconfig2/.conda/lib/python3.11/site-packages (from google-generativeai>=0.3.1->python-aiconfig) (2.16.2)\n",
            "Requirement already satisfied: typing-extensions in /Users/saqadri/lm/aiconfig2/.conda/lib/python3.11/site-packages (from google-generativeai>=0.3.1->python-aiconfig) (4.9.0)\n",
            "Requirement already satisfied: protobuf in /Users/saqadri/lm/aiconfig2/.conda/lib/python3.11/site-packages (from google-generativeai>=0.3.1->python-aiconfig) (4.25.2)\n",
            "Requirement already satisfied: tqdm in /Users/saqadri/lm/aiconfig2/.conda/lib/python3.11/site-packages (from google-generativeai>=0.3.1->python-aiconfig) (4.66.1)\n",
            "Requirement already satisfied: proto-plus<2.0.0dev,>=1.22.3 in /Users/saqadri/lm/aiconfig2/.conda/lib/python3.11/site-packages (from google-ai-generativelanguage==0.4.0->google-generativeai>=0.3.1->python-aiconfig) (1.23.0)\n",
            "Requirement already satisfied: filelock in /Users/saqadri/lm/aiconfig2/.conda/lib/python3.11/site-packages (from huggingface-hub<=0.21.4,>=0.20.3->python-aiconfig) (3.13.1)\n",
            "Requirement already satisfied: fsspec>=2023.5.0 in /Users/saqadri/lm/aiconfig2/.conda/lib/python3.11/site-packages (from huggingface-hub<=0.21.4,>=0.20.3->python-aiconfig) (2024.2.0)\n",
            "Requirement already satisfied: anyio<5,>=3.5.0 in /Users/saqadri/lm/aiconfig2/.conda/lib/python3.11/site-packages (from openai>=1.13.3->python-aiconfig) (4.2.0)\n",
            "Requirement already satisfied: distro<2,>=1.7.0 in /Users/saqadri/lm/aiconfig2/.conda/lib/python3.11/site-packages (from openai>=1.13.3->python-aiconfig) (1.9.0)\n",
            "Requirement already satisfied: httpx<1,>=0.23.0 in /Users/saqadri/lm/aiconfig2/.conda/lib/python3.11/site-packages (from openai>=1.13.3->python-aiconfig) (0.26.0)\n",
            "Requirement already satisfied: sniffio in /Users/saqadri/lm/aiconfig2/.conda/lib/python3.11/site-packages (from openai>=1.13.3->python-aiconfig) (1.3.0)\n",
            "Requirement already satisfied: annotated-types>=0.4.0 in /Users/saqadri/lm/aiconfig2/.conda/lib/python3.11/site-packages (from pydantic>=2.1->python-aiconfig) (0.6.0)\n",
            "Requirement already satisfied: pydantic-core==2.10.1 in /Users/saqadri/lm/aiconfig2/.conda/lib/python3.11/site-packages (from pydantic>=2.1->python-aiconfig) (2.10.1)\n",
            "Requirement already satisfied: boto3>=1.28.57 in /Users/saqadri/lm/aiconfig2/.conda/lib/python3.11/site-packages (from anthropic-bedrock->python-aiconfig) (1.34.37)\n",
            "Requirement already satisfied: botocore>=1.31.57 in /Users/saqadri/lm/aiconfig2/.conda/lib/python3.11/site-packages (from anthropic-bedrock->python-aiconfig) (1.34.37)\n",
            "Requirement already satisfied: tokenizers>=0.13.0 in /Users/saqadri/lm/aiconfig2/.conda/lib/python3.11/site-packages (from anthropic-bedrock->python-aiconfig) (0.15.1)\n",
            "Requirement already satisfied: Werkzeug>=3.0.0 in /Users/saqadri/lm/aiconfig2/.conda/lib/python3.11/site-packages (from flask[async]->python-aiconfig) (3.0.1)\n",
            "Requirement already satisfied: Jinja2>=3.1.2 in /Users/saqadri/lm/aiconfig2/.conda/lib/python3.11/site-packages (from flask[async]->python-aiconfig) (3.1.3)\n",
            "Requirement already satisfied: itsdangerous>=2.1.2 in /Users/saqadri/lm/aiconfig2/.conda/lib/python3.11/site-packages (from flask[async]->python-aiconfig) (2.1.2)\n",
            "Requirement already satisfied: blinker>=1.6.2 in /Users/saqadri/lm/aiconfig2/.conda/lib/python3.11/site-packages (from flask[async]->python-aiconfig) (1.7.0)\n",
            "Requirement already satisfied: asgiref>=3.2 in /Users/saqadri/lm/aiconfig2/.conda/lib/python3.11/site-packages (from flask[async]->python-aiconfig) (3.7.2)\n",
            "Requirement already satisfied: joblib in /Users/saqadri/lm/aiconfig2/.conda/lib/python3.11/site-packages (from nltk->python-aiconfig) (1.3.2)\n",
            "Requirement already satisfied: regex>=2021.8.3 in /Users/saqadri/lm/aiconfig2/.conda/lib/python3.11/site-packages (from nltk->python-aiconfig) (2023.12.25)\n",
            "Requirement already satisfied: wcwidth in /Users/saqadri/lm/aiconfig2/.conda/lib/python3.11/site-packages (from prompt-toolkit->python-aiconfig) (0.2.13)\n",
            "Requirement already satisfied: PyMeta3>=0.5.1 in /Users/saqadri/lm/aiconfig2/.conda/lib/python3.11/site-packages (from pybars3->python-aiconfig) (0.5.1)\n",
            "Requirement already satisfied: charset-normalizer<4,>=2 in /Users/saqadri/lm/aiconfig2/.conda/lib/python3.11/site-packages (from requests->python-aiconfig) (3.3.2)\n",
            "Requirement already satisfied: idna<4,>=2.5 in /Users/saqadri/lm/aiconfig2/.conda/lib/python3.11/site-packages (from requests->python-aiconfig) (3.6)\n",
            "Requirement already satisfied: urllib3<3,>=1.21.1 in /Users/saqadri/lm/aiconfig2/.conda/lib/python3.11/site-packages (from requests->python-aiconfig) (2.0.7)\n",
            "Requirement already satisfied: certifi>=2017.4.17 in /Users/saqadri/lm/aiconfig2/.conda/lib/python3.11/site-packages (from requests->python-aiconfig) (2024.2.2)\n",
            "Requirement already satisfied: ruamel.yaml.clib>=0.2.7 in /Users/saqadri/lm/aiconfig2/.conda/lib/python3.11/site-packages (from ruamel.yaml->python-aiconfig) (0.2.8)\n",
            "Requirement already satisfied: jmespath<2.0.0,>=0.7.1 in /Users/saqadri/lm/aiconfig2/.conda/lib/python3.11/site-packages (from boto3>=1.28.57->anthropic-bedrock->python-aiconfig) (1.0.1)\n",
            "Requirement already satisfied: s3transfer<0.11.0,>=0.10.0 in /Users/saqadri/lm/aiconfig2/.conda/lib/python3.11/site-packages (from boto3>=1.28.57->anthropic-bedrock->python-aiconfig) (0.10.0)\n",
            "Requirement already satisfied: googleapis-common-protos<2.0.dev0,>=1.56.2 in /Users/saqadri/lm/aiconfig2/.conda/lib/python3.11/site-packages (from google-api-core->google-generativeai>=0.3.1->python-aiconfig) (1.62.0)\n",
            "Requirement already satisfied: cachetools<6.0,>=2.0.0 in /Users/saqadri/lm/aiconfig2/.conda/lib/python3.11/site-packages (from google-auth->google-generativeai>=0.3.1->python-aiconfig) (5.3.2)\n",
            "Requirement already satisfied: pyasn1-modules>=0.2.1 in /Users/saqadri/lm/aiconfig2/.conda/lib/python3.11/site-packages (from google-auth->google-generativeai>=0.3.1->python-aiconfig) (0.3.0)\n",
            "Requirement already satisfied: rsa<5,>=3.1.4 in /Users/saqadri/lm/aiconfig2/.conda/lib/python3.11/site-packages (from google-auth->google-generativeai>=0.3.1->python-aiconfig) (4.9)\n",
            "Requirement already satisfied: httpcore==1.* in /Users/saqadri/lm/aiconfig2/.conda/lib/python3.11/site-packages (from httpx<1,>=0.23.0->openai>=1.13.3->python-aiconfig) (1.0.2)\n",
            "Requirement already satisfied: h11<0.15,>=0.13 in /Users/saqadri/lm/aiconfig2/.conda/lib/python3.11/site-packages (from httpcore==1.*->httpx<1,>=0.23.0->openai>=1.13.3->python-aiconfig) (0.14.0)\n",
            "Requirement already satisfied: MarkupSafe>=2.0 in /Users/saqadri/lm/aiconfig2/.conda/lib/python3.11/site-packages (from Jinja2>=3.1.2->flask[async]->python-aiconfig) (2.1.5)\n",
            "Requirement already satisfied: grpcio<2.0dev,>=1.33.2 in /Users/saqadri/lm/aiconfig2/.conda/lib/python3.11/site-packages (from google-api-core[grpc]!=2.0.*,!=2.1.*,!=2.10.*,!=2.2.*,!=2.3.*,!=2.4.*,!=2.5.*,!=2.6.*,!=2.7.*,!=2.8.*,!=2.9.*,<3.0.0dev,>=1.34.0->google-ai-generativelanguage==0.4.0->google-generativeai>=0.3.1->python-aiconfig) (1.60.1)\n",
            "Requirement already satisfied: grpcio-status<2.0.dev0,>=1.33.2 in /Users/saqadri/lm/aiconfig2/.conda/lib/python3.11/site-packages (from google-api-core[grpc]!=2.0.*,!=2.1.*,!=2.10.*,!=2.2.*,!=2.3.*,!=2.4.*,!=2.5.*,!=2.6.*,!=2.7.*,!=2.8.*,!=2.9.*,<3.0.0dev,>=1.34.0->google-ai-generativelanguage==0.4.0->google-generativeai>=0.3.1->python-aiconfig) (1.60.1)\n",
            "Requirement already satisfied: setuptools in /Users/saqadri/lm/aiconfig2/.conda/lib/python3.11/site-packages (from nodeenv>=1.6.0->pyright==1.1.335->lastmile-utils==0.0.23->python-aiconfig) (68.2.2)\n",
            "Requirement already satisfied: pyasn1<0.6.0,>=0.4.6 in /Users/saqadri/lm/aiconfig2/.conda/lib/python3.11/site-packages (from pyasn1-modules>=0.2.1->google-auth->google-generativeai>=0.3.1->python-aiconfig) (0.5.1)\n",
            "Requirement already satisfied: six>=1.5 in /Users/saqadri/lm/aiconfig2/.conda/lib/python3.11/site-packages (from python-dateutil>=2.8.2->pandas==2.1.2->lastmile-utils==0.0.23->python-aiconfig) (1.16.0)\n",
            "Requirement already satisfied: importlib-metadata<6.0.0,>=5.0.0 in /Users/saqadri/lm/aiconfig2/.conda/lib/python3.11/site-packages (from json-spec->jsoncomment==0.4.2->lastmile-utils==0.0.23->python-aiconfig) (5.2.0)\n",
            "Requirement already satisfied: zipp>=0.5 in /Users/saqadri/lm/aiconfig2/.conda/lib/python3.11/site-packages (from importlib-metadata<6.0.0,>=5.0.0->json-spec->jsoncomment==0.4.2->lastmile-utils==0.0.23->python-aiconfig) (3.17.0)\n"
          ]
        }
      ],
      "source": [
        "!pip install python-aiconfig\n",
        "\n",
        "# Create .env file at aiconfig/.env containing the following line:\n",
        "# OPENAI_API_KEY=<your key here>\n",
        "# You can get your key from https://platform.openai.com/api-keys \n",
        "import openai\n",
        "import dotenv\n",
        "import os\n",
        "dotenv.load_dotenv()\n",
        "openai.api_key = os.getenv(\"OPENAI_API_KEY\")"
      ]
    },
    {
      "attachments": {},
      "cell_type": "markdown",
      "metadata": {
        "id": "-FMlVH2bF4iN"
      },
      "source": [
        "## Load AI Config `assistant.aiconfig.json`\n",
        "\n",
        "Download file [from here](https://github.com/lastmile-ai/aiconfig/blob/main/cookbooks/Basic-Prompt-Routing/assistant.aiconfig.json). \n",
        "\n",
        "If you're using Colab, Upload to 'Files' in your colab notebook and load (shown below).\n"
      ]
    },
    {
      "cell_type": "code",
      "execution_count": 2,
      "metadata": {
        "id": "go9T1xivF4S2"
      },
      "outputs": [
        {
          "name": "stderr",
          "output_type": "stream",
          "text": [
            "/Users/saqadri/lm/aiconfig2/.conda/lib/python3.11/site-packages/pydantic/_internal/_fields.py:128: UserWarning: Field \"model_parsers\" has conflict with protected namespace \"model_\".\n",
            "\n",
            "You may be able to resolve this warning by setting `model_config['protected_namespaces'] = ()`.\n",
            "  warnings.warn(\n",
            "/Users/saqadri/lm/aiconfig2/.conda/lib/python3.11/site-packages/tqdm/auto.py:21: TqdmWarning: IProgress not found. Please update jupyter and ipywidgets. See https://ipywidgets.readthedocs.io/en/stable/user_install.html\n",
            "  from .autonotebook import tqdm as notebook_tqdm\n"
          ]
        }
      ],
      "source": [
        "from aiconfig import AIConfigRuntime, InferenceOptions, CallbackManager\n",
        "\n",
        "# Load the aiconfig.\n",
        "config = AIConfigRuntime.load('assistant.aiconfig.json')\n",
        "config.callback_manager = CallbackManager([])"
      ]
    },
    {
      "cell_type": "code",
      "execution_count": 3,
      "metadata": {},
      "outputs": [],
      "source": [
        "math_question = \"Provide a proof that 1+1=2\"\n",
        "philosophy_question = \"What is the meaning of life?\"\n",
        "physics_question = \"Explain the theory of relativity\"\n",
        "\n",
        "student_questions = [math_question, philosophy_question, physics_question]"
      ]
    },
    {
      "attachments": {},
      "cell_type": "markdown",
      "metadata": {
        "id": "zqCchve9GINL"
      },
      "source": [
        "# Run `router` prompt\n",
        "\n",
        "\n"
      ]
    },
    {
      "cell_type": "code",
      "execution_count": 4,
      "metadata": {
        "colab": {
          "base_uri": "https://localhost:8080/"
        },
        "id": "Kd6BFPGiHPJe",
        "outputId": "f221e835-0d96-4cdc-dc3e-0908c0943955"
      },
      "outputs": [
        {
          "data": {
            "text/plain": [
              "'math'"
            ]
          },
          "execution_count": 4,
          "metadata": {},
          "output_type": "execute_result"
        }
      ],
      "source": [
        "# Run a single prompt (with streaming).\n",
        "\n",
        "params = {\"student_question\": math_question}\n",
        "\n",
        "await config.run(\"router\", params)\n",
        "topic = config.get_output_text(\"router\")\n",
        "\n",
        "dest_prompt = topic.lower()\n",
        "dest_prompt"
      ]
    },
    {
      "cell_type": "markdown",
      "metadata": {},
      "source": [
        "# Run the specialized prompt"
      ]
    },
    {
      "cell_type": "code",
      "execution_count": 7,
      "metadata": {},
      "outputs": [
        {
          "name": "stdout",
          "output_type": "stream",
          "text": [
            "Hi! I'm your Math Professor.\n",
            "\n",
            "The proof that 1+1=2 is quite simple and is based on the Peano's axioms, which define the basics of arithmetic in a formal way.\n",
            "\n",
            "Here's a simplified version of the proof:\n",
            "\n",
            "1. Define \"1\" as the successor of 0.\n",
            "2. Define \"2\" as the successor of 1.\n",
            "3. Therefore, 1+1 is the successor of 1 (by definition of addition).\n",
            "4. But the successor of 1 is also defined as 2.\n",
            "5. Therefore, 1+1=2.\n",
            "\n",
            "This is a very basic and simplified version of the proof, but it gives you an idea of how mathematicians use formal systems to define even the most basic concepts in math."
          ]
        },
        {
          "data": {
            "text/plain": [
              "[ExecuteResult(output_type='execute_result', execution_count=0, data='Hi! I\\'m your Math Professor.\\n\\nThe proof that 1+1=2 is quite simple and is based on the Peano\\'s axioms, which define the basics of arithmetic in a formal way.\\n\\nHere\\'s a simplified version of the proof:\\n\\n1. Define \"1\" as the successor of 0.\\n2. Define \"2\" as the successor of 1.\\n3. Therefore, 1+1 is the successor of 1 (by definition of addition).\\n4. But the successor of 1 is also defined as 2.\\n5. Therefore, 1+1=2.\\n\\nThis is a very basic and simplified version of the proof, but it gives you an idea of how mathematicians use formal systems to define even the most basic concepts in math.', mime_type=None, metadata={'id': 'chatcmpl-9RNpXpJpoYi5LiAMgLVWNlgzIvmCG', 'created': 1716313487, 'model': 'gpt-4-0613', 'object': 'chat.completion.chunk', 'raw_response': {'content': 'Hi! I\\'m your Math Professor.\\n\\nThe proof that 1+1=2 is quite simple and is based on the Peano\\'s axioms, which define the basics of arithmetic in a formal way.\\n\\nHere\\'s a simplified version of the proof:\\n\\n1. Define \"1\" as the successor of 0.\\n2. Define \"2\" as the successor of 1.\\n3. Therefore, 1+1 is the successor of 1 (by definition of addition).\\n4. But the successor of 1 is also defined as 2.\\n5. Therefore, 1+1=2.\\n\\nThis is a very basic and simplified version of the proof, but it gives you an idea of how mathematicians use formal systems to define even the most basic concepts in math.', 'role': 'assistant'}, 'role': 'assistant'})]"
            ]
          },
          "execution_count": 7,
          "metadata": {},
          "output_type": "execute_result"
        }
      ],
      "source": [
        "inference_options = InferenceOptions(stream=True)\n",
        "await config.run(dest_prompt, params, options=inference_options)"
      ]
    }
  ],
  "metadata": {
    "colab": {
      "provenance": []
    },
    "kernelspec": {
      "display_name": "Python 3",
      "name": "python3"
    },
    "language_info": {
      "codemirror_mode": {
        "name": "ipython",
        "version": 3
      },
      "file_extension": ".py",
      "mimetype": "text/x-python",
      "name": "python",
      "nbconvert_exporter": "python",
      "pygments_lexer": "ipython3",
      "version": "3.11.7"
    }
  },
  "nbformat": 4,
  "nbformat_minor": 0
}
