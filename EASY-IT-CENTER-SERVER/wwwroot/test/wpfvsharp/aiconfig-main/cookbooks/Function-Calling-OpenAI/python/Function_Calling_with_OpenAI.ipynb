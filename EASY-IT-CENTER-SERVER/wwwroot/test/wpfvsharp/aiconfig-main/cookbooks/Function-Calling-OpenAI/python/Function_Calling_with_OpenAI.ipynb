{
  "cells": [
    {
      "attachments": {},
      "cell_type": "markdown",
      "metadata": {
        "id": "_KIVLBz840Bi"
      },
      "source": [
        "# Function Calling with OpenAI & AIConfig\n",
        "This notebook serves as a practical guide for leveraging AIConfig and function calling with OpenAI models. We start with a mock database of books and functions to list, search, and retrieve books. Function calling is enabled so the LLM can interpret a user's question, determine the appropriate function to call, and execute the function. Read more about [Function Calling with Open AI](https://openai.com/blog/function-calling-and-other-api-updates) and [AIConfig for prompt and model management](https://github.com/lastmile-ai/aiconfig)."
      ]
    },
    {
      "cell_type": "code",
      "execution_count": null,
      "metadata": {
        "id": "51w-3OZC_Z97"
      },
      "outputs": [],
      "source": [
        "# Install AIConfig package\n",
        "!pip3 install python-aiconfig\n",
        "\n",
        "# Create .env file at aiconfig/.env containing the following line: \n",
        "# OPENAI_API_KEY=<your key here>\n",
        "# You can get your key from https://platform.openai.com/api-keys\n",
        "import openai\n",
        "import dotenv\n",
        "import os\n",
        "dotenv.load_dotenv()\n",
        "openai.api_key = os.getenv(\"OPENAI_API_KEY\")"
      ]
    },
    {
      "attachments": {},
      "cell_type": "markdown",
      "metadata": {
        "id": "rXJJiDO6gbOK"
      },
      "source": [
        "## Set up the books DB"
      ]
    },
    {
      "cell_type": "code",
      "execution_count": null,
      "metadata": {
        "id": "KP-CTNZBKN_J"
      },
      "outputs": [],
      "source": [
        "# Define db of books\n",
        "db = [\n",
        "    {\n",
        "        'id': 'a1',\n",
        "        'name': 'To Kill a Mockingbird',\n",
        "        'genre': 'historical',\n",
        "        'description': ('Compassionate, dramatic, and deeply moving, \"To Kill A Mockingbird\" takes readers to the roots of human behavior - to innocence and experience, kindness and cruelty, love and hatred, humor and pathos. Now with over 18 million copies in print and translated into forty languages, this regional story by a young Alabama woman claims universal appeal. Harper Lee always considered her book to be a simple love story. Today it is regarded as a masterpiece of American literature.'),\n",
        "    },\n",
        "    {\n",
        "        'id': 'a2',\n",
        "        'name': 'All the Light We Cannot See',\n",
        "        'genre': 'historical',\n",
        "        'description': ('In a mining town in Germany, Werner Pfennig, an orphan, grows up with his younger sister, enchanted by a crude radio they find that brings them news and stories from places they have never seen or imagined. Werner becomes an expert at building and fixing these crucial new instruments and is enlisted to use his talent to track down the resistance. Deftly interweaving the lives of Marie-Laure and Werner, Doerr illuminates the ways, against all odds, people try to be good to one another.'),\n",
        "    },\n",
        "    {\n",
        "        'id': 'a3',\n",
        "        'name': 'Where the Crawdads Sing',\n",
        "        'genre': 'historical',\n",
        "        'description': ('For years, rumors of the “Marsh Girl” haunted Barkley Cove, a quiet fishing village. Kya Clark is barefoot and wild; unfit for polite society. So in late 1969, when the popular Chase Andrews is found dead, locals immediately suspect her.\\n\\n'\n",
        "                        'But Kya is not what they say. A born naturalist with just one day of school, she takes life\\'s lessons from the land, learning the real ways of the world from the dishonest signals of fireflies. But while she has the skills to live in solitude forever, the time comes when she yearns to be touched and loved. Drawn to two young men from town, who are each intrigued by her wild beauty, Kya opens herself to a new and startling world—until the unthinkable happens.'),\n",
        "    },\n",
        "]"
      ]
    },
    {
      "attachments": {},
      "cell_type": "markdown",
      "metadata": {
        "id": "dCiJurzKgnqB"
      },
      "source": [
        "## Define functions (to interact with DB)"
      ]
    },
    {
      "cell_type": "code",
      "execution_count": null,
      "metadata": {
        "id": "nbolW2mVDeZD"
      },
      "outputs": [],
      "source": [
        "# Define the functions: list, search, get\n",
        "\n",
        "# The 'list' function returns a list of books in a specified genre.\n",
        "def list(genre):\n",
        "    return [item for item in db if item['genre'] == genre]\n",
        "\n",
        "# The 'search' function returns a list of books that match the provided name.\n",
        "def search(name):\n",
        "    return [item for item in db if name in item['name']]\n",
        "\n",
        "# The 'get' function returns detailed information about a book based on its ID.\n",
        "# Note: This function accepts only IDs, not names. Use the 'search' function to find a book's ID.\n",
        "def get(id):\n",
        "    for item in db:\n",
        "        if item['id'] == id:\n",
        "            return item\n",
        "    return None"
      ]
    },
    {
      "attachments": {},
      "cell_type": "markdown",
      "metadata": {
        "id": "LYBn5kNagQrt"
      },
      "source": [
        "## Create your AIConfig"
      ]
    },
    {
      "cell_type": "code",
      "execution_count": null,
      "metadata": {
        "id": "6CfogMKmh9OU"
      },
      "outputs": [],
      "source": [
        "from aiconfig import AIConfigRuntime, InferenceOptions\n",
        "\n",
        "# Load the aiconfig.\n",
        "config = AIConfigRuntime.create(name=\"Book Finder\", description=\"Use OpenAI function calling to help recommend books\")"
      ]
    },
    {
      "cell_type": "code",
      "execution_count": null,
      "metadata": {
        "id": "_FJXnnbTgPsZ"
      },
      "outputs": [],
      "source": [
        "\n",
        "model = \"gpt-3.5-turbo\"\n",
        "data = {\n",
        "    \"model\": model,\n",
        "    \"messages\": [\n",
        "        {\n",
        "            \"role\": \"system\",\n",
        "            \"content\": \"Please use our book database, which you can access using functions to answer the following questions.\"\n",
        "        },\n",
        "        {\n",
        "            \"role\": \"user\",\n",
        "            \"content\": \"I really enjoyed reading {{book}}, could you recommend me a book that is similar and tell me why?\"\n",
        "        }\n",
        "    ],\n",
        "    \"functions\": [\n",
        "        {\n",
        "          \"name\": \"list\",\n",
        "          \"description\": \"list queries books by genre, and returns a list of names of books\",\n",
        "          \"parameters\": {\n",
        "            \"type\": \"object\",\n",
        "            \"properties\": {\n",
        "              \"genre\": {\n",
        "                \"type\": \"string\",\n",
        "                \"enum\": [\n",
        "                  \"mystery\",\n",
        "                  \"nonfiction\",\n",
        "                  \"memoir\",\n",
        "                  \"romance\",\n",
        "                  \"historical\"\n",
        "                ]\n",
        "              }\n",
        "            }\n",
        "          }\n",
        "        },\n",
        "        {\n",
        "          \"name\": \"search\",\n",
        "          \"description\": \"search queries books by their name and returns a list of book names and their ids\",\n",
        "          \"parameters\": {\n",
        "            \"type\": \"object\",\n",
        "            \"properties\": {\n",
        "              \"name\": {\n",
        "                \"type\": \"string\"\n",
        "              }\n",
        "            }\n",
        "          }\n",
        "        },\n",
        "        {\n",
        "          \"name\": \"get\",\n",
        "          \"description\": \"get returns a book's detailed information based on the id of the book. Note that this does not accept names, and only IDs, which you can get by using search.\",\n",
        "          \"parameters\": {\n",
        "            \"type\": \"object\",\n",
        "            \"properties\": {\n",
        "              \"id\": {\n",
        "                \"type\": \"string\"\n",
        "              }\n",
        "            }\n",
        "          }\n",
        "        }\n",
        "    ]\n",
        "}\n",
        "\n",
        "new_prompts = await config.serialize(model, data, prompt_name=\"recommend_book\", params={\"book\": \"To Kill a Mockingbird\"})\n",
        "config.add_prompt(prompt_name=\"recommend_book\", prompt_data=new_prompts[0])"
      ]
    },
    {
      "cell_type": "code",
      "execution_count": null,
      "metadata": {
        "id": "PYactbhxgOr1"
      },
      "outputs": [],
      "source": [
        "config.save(\"recommender.aiconfig.json\")"
      ]
    },
    {
      "attachments": {},
      "cell_type": "markdown",
      "metadata": {
        "id": "ni_umLSdjAAT"
      },
      "source": [
        "## Get recommendations using function calls"
      ]
    },
    {
      "cell_type": "code",
      "execution_count": null,
      "metadata": {
        "id": "o7eJfimvLa3X"
      },
      "outputs": [],
      "source": [
        "# Use helper function to executes the function specified by the LLM's output for 'function_call'.\n",
        "# It handles 'list', 'search', or 'get' functions, and raises a ValueError for unknown functions.\n",
        "import json\n",
        "\n",
        "def call_function(function_call):\n",
        "    args = json.loads(function_call.arguments)\n",
        "    name = function_call.name\n",
        "\n",
        "    if name == 'list':\n",
        "        return list(args['genre'])\n",
        "    elif name == 'search':\n",
        "        return search(args['name'])\n",
        "    elif name == 'get':\n",
        "        return get(args['id'])\n",
        "    else:\n",
        "        raise ValueError('No function found')"
      ]
    },
    {
      "cell_type": "code",
      "execution_count": null,
      "metadata": {
        "id": "jD9S3q5mMtqd"
      },
      "outputs": [],
      "source": [
        "# Run recommendBook prompt with gpt-3.5 and determine right function to call based on user question\n",
        "params = {\"book\":\"Where the Crawdads Sing\"}\n",
        "inference_options = InferenceOptions(stream=True)\n",
        "\n",
        "result = await config.run(\"recommend_book\", params, options=inference_options)\n",
        "tool_calls = result[0].data.value\n",
        "func_call = tool_calls[0].function\n"
      ]
    },
    {
      "cell_type": "code",
      "execution_count": null,
      "metadata": {
        "id": "CZ_NhrvrTCu8"
      },
      "outputs": [],
      "source": [
        "# Run call_function to execute the LLM-specified function (list, search, get)\n",
        "value = call_function(func_call)\n",
        "print(json.dumps(value, indent=4)\n",
        ")"
      ]
    },
    {
      "attachments": {},
      "cell_type": "markdown",
      "metadata": {
        "id": "MKEf1idOjkvk"
      },
      "source": [
        "## Using GPT to generate a user-friendly response"
      ]
    },
    {
      "cell_type": "code",
      "execution_count": null,
      "metadata": {
        "id": "0QZHtalIVGQB"
      },
      "outputs": [],
      "source": [
        "data = {\n",
        "    \"model\": model,\n",
        "    \"messages\": [\n",
        "        {\n",
        "            \"role\": \"user\",\n",
        "            \"content\": \"Here is some data about a book from a books DB - please write a short description about the book as if you're a librarian. Data: {{book_info}}\"\n",
        "        }\n",
        "    ]\n",
        "}\n",
        "\n",
        "new_prompts = await config.serialize(model, data, prompt_name=\"gen_summary\")\n",
        "config.add_prompt(prompt_name=\"gen_summary\", prompt_data=new_prompts[0])"
      ]
    },
    {
      "cell_type": "code",
      "execution_count": null,
      "metadata": {
        "id": "Xd-4rg5lj8lp"
      },
      "outputs": [],
      "source": [
        "result = await config.run(\"gen_summary\", params={\"book_info\": value}, options=inference_options)"
      ]
    },
    {
      "cell_type": "code",
      "execution_count": null,
      "metadata": {
        "id": "4l-buJXglaLw"
      },
      "outputs": [],
      "source": [
        "config.save(\"recommender.aiconfig.json\")"
      ]
    }
  ],
  "metadata": {
    "colab": {
      "provenance": []
    },
    "kernelspec": {
      "display_name": "Python 3",
      "name": "python3"
    },
    "language_info": {
      "codemirror_mode": {
        "name": "ipython",
        "version": 3
      },
      "file_extension": ".py",
      "mimetype": "text/x-python",
      "name": "python",
      "nbconvert_exporter": "python",
      "pygments_lexer": "ipython3",
      "version": "3.11.6"
    }
  },
  "nbformat": 4,
  "nbformat_minor": 0
}
