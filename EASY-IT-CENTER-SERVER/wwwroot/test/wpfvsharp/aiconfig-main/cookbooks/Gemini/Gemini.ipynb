{
  "cells": [
    {
      "attachments": {},
      "cell_type": "markdown",
      "metadata": {
        "id": "fLpCYI-Gt-9Q"
      },
      "source": [
        "# Google Gemini with AIConfig\n",
        "\n",
        "[AIConfig](https://github.com/lastmile-ai/aiconfig) is a framework that makes it easy to build generative AI applications quickly and reliably in production.\n",
        "\n",
        "It manages generative AI prompts, models and settings as JSON-serializable configs that you can version control, evaluate, and use in a consistent, model-agnostic SDK.\n",
        "\n",
        "[Gemini](https://deepmind.google/technologies/gemini/#introduction) is Google's latest Generative AI model built for multimodality and better performance in reasoning. Gemini Ultra has surpassed GPT-4 across a range of benchmarks which include\n",
        "\n",
        "![Gemini Text Benchmarks](https://miro.medium.com/v2/resize:fit:4800/format:webp/1*joGmCCbIyt1rn5Stl9tTFQ.png)"
      ]
    },
    {
      "attachments": {},
      "cell_type": "markdown",
      "metadata": {
        "id": "DRxhxoZHD_Ni"
      },
      "source": [
        "## Install dependencies"
      ]
    },
    {
      "cell_type": "code",
      "execution_count": 1,
      "metadata": {
        "id": "Ppc9RiUGg_7c"
      },
      "outputs": [],
      "source": [
        "# Install AIConfig python sdk and Gemini extension.\n",
        "%pip install python-aiconfig\n",
        "%pip install aiconfig-extension-gemini"
      ]
    },
    {
      "attachments": {},
      "cell_type": "markdown",
      "metadata": {
        "id": "6UGrePxeqOFM"
      },
      "source": [
        "## Get your Google Gemini key\n",
        "\n"
      ]
    },
    {
      "cell_type": "code",
      "execution_count": 2,
      "metadata": {
        "id": "wLS1XJvyosT7"
      },
      "outputs": [
        {
          "data": {
            "text/plain": [
              "True"
            ]
          },
          "execution_count": 2,
          "metadata": {},
          "output_type": "execute_result"
        }
      ],
      "source": [
        "# Environment Variable (with dotenv)\n",
        "import dotenv\n",
        "import os\n",
        "dotenv.load_dotenv()\n",
        "\n",
        "# Create .env file at aiconfig/.env containing the following line:\n",
        "# GOOGLE_API_KEY=<your key here>\n",
        "# You can get your key from https://ai.google.dev/tutorials/setup \n",
        "import openai\n",
        "import dotenv\n",
        "import os\n",
        "dotenv.load_dotenv()"
      ]
    },
    {
      "attachments": {},
      "cell_type": "markdown",
      "metadata": {
        "id": "v6xEJJ7ljiYa"
      },
      "source": [
        "## Create and save AIConfig for Gemini\n",
        "\n",
        "We define an aiconfig that contains prompts from the Gemini announcement video.\n",
        "\n",
        "This is a one-time config we can create and save. The nice thing is we can simply version control this config and iterate on the prompts separately from the application code."
      ]
    },
    {
      "cell_type": "code",
      "execution_count": 3,
      "metadata": {
        "id": "W_UGROg7jlmP"
      },
      "outputs": [
        {
          "name": "stderr",
          "output_type": "stream",
          "text": [
            "/Users/rossdancraig/.pyenv/versions/3.11.6/lib/python3.11/site-packages/pydantic/_internal/_fields.py:128: UserWarning: Field \"model_parsers\" has conflict with protected namespace \"model_\".\n",
            "\n",
            "You may be able to resolve this warning by setting `model_config['protected_namespaces'] = ()`.\n",
            "  warnings.warn(\n",
            "/Users/rossdancraig/.pyenv/versions/3.11.6/lib/python3.11/site-packages/tqdm/auto.py:21: TqdmWarning: IProgress not found. Please update jupyter and ipywidgets. See https://ipywidgets.readthedocs.io/en/stable/user_install.html\n",
            "  from .autonotebook import tqdm as notebook_tqdm\n"
          ]
        }
      ],
      "source": [
        "from aiconfig import AIConfigRuntime\n",
        "import aiconfig_extension_gemini\n",
        "\n",
        "config = AIConfigRuntime(**{\n",
        "    \n",
        "    \"name\": \"Exploring Gemini\",\n",
        "      \"description\": \"\",\n",
        "      \"schema_version\": \"latest\",\n",
        "      \"metadata\": {\n",
        "        \"models\": {\n",
        "          \"gemini-pro\": {\n",
        "            \"stream\": True\n",
        "          }\n",
        "        },\n",
        "        \"default_model\": \"gemini-pro\",\n",
        "        \"model_parsers\": {\n",
        "\n",
        "        }\n",
        "      },\n",
        "      \"prompts\": [\n",
        "        {\n",
        "          \"name\": \"multilinguality\",\n",
        "          \"input\": \"Can you teach me how to say duck in a different language? And, give me a few options.\",\n",
        "          \"metadata\":\n",
        "          {\n",
        "              \"model\": \"gemini-pro\",\n",
        "              \"remember_chat_context\": True\n",
        "          }\n",
        "        },\n",
        "            {\n",
        "          \"name\": \"pronounciation\",\n",
        "          \"input\": \"Can you explain how to pronounce the {{language}} one?\",\n",
        "          \"metadata\":\n",
        "          {\n",
        "              \"model\": \"gemini-pro\",\n",
        "              \"remember_chat_context\": True\n",
        "          }\n",
        "        }\n",
        "\n",
        "      ]\n",
        "    }\n",
        ")\n",
        "\n",
        "# Save the aiconfig to disk\n",
        "config.save(\"gemini_demo.aiconfig.json\")"
      ]
    },
    {
      "attachments": {},
      "cell_type": "markdown",
      "metadata": {
        "id": "Je2KM6vno0_c"
      },
      "source": [
        "## Try out Gemini prompts\n",
        "\n",
        "Recreate a few of the Gemini demonstrate prompts through AIConfig. Run the prompt named `multilinguality` to ask how to say duck in different languages. Then, run the prompt named `pronounciation` passing in a local parameter `language` to get a detailed text response on how to pronounce duck in specified language."
      ]
    },
    {
      "cell_type": "code",
      "execution_count": 4,
      "metadata": {
        "id": "YFBE95DUjBvU"
      },
      "outputs": [],
      "source": [
        "# Load the config you just created\n",
        "from aiconfig import CallbackManager, InferenceOptions\n",
        "aiconfig = AIConfigRuntime.load(\"gemini_demo.aiconfig.json\")\n",
        "\n",
        "aiconfig.callback_manager = CallbackManager([]) # Skip Logging, Google Colab forwards logs to stdout\n",
        "inference_options = InferenceOptions(stream=True)"
      ]
    },
    {
      "cell_type": "code",
      "execution_count": 5,
      "metadata": {
        "id": "7-ci5weaIlnY"
      },
      "outputs": [
        {
          "name": "stdout",
          "output_type": "stream",
          "text": [
            "Gemini output: - Spanish: pato\n",
            "- French: canard\n",
            "- German: Ente\n",
            "- Italian: anatra\n",
            "- Portuguese: pato\n",
            "- Russian: yтка\n",
            "- Korean: 오리\n",
            "- Japanese: 鴨 (かも)\n",
            "- Chinese: 鸭子 (yāzi)\n",
            "- Hindi: बत्तख (baṭṭakh)\n",
            "- Arabic: بطة (baṭṭah) \n",
            "\n",
            "Gemini output: The Mandarin word for duck is 鸭子 (yāzi). It is pronounced in two syllables:\n",
            "\n",
            "1. **yā (鸭)**:\n",
            "\n",
            "   - Start by saying \"ya\" as in \"yard.\"\n",
            "   - Then, raise the tone of your voice slightly and say \"ah\" as in \"father.\"\n",
            "   - The resulting sound is a rising tone.\n",
            "\n",
            "2. **zi (子)**:\n",
            "\n",
            "   - Start by saying \"dz\" as in \"adze.\"\n",
            "   - Then, immediately follow it with an \"ih\" sound as in \"sit.\"\n",
            "   - The resulting sound is a neutral tone.\n",
            "\n",
            "To pronounce 鸭子 (yāzi) correctly, connect the two syllables smoothly and say them with the correct tones. Here's a step-by-step guide:\n",
            "\n",
            "1. Inhale deeply and open your mouth slightly.\n",
            "2. Start with a rising tone on the first syllable \"yā.\"\n",
            "3. Transition smoothly to a neutral tone on the second syllable \"zi.\"\n",
            "4. Keep your tongue relaxed and let the air flow out naturally.\n",
            "5. The overall pronunciation should sound like \"yah-dzih.\"\n",
            "\n",
            "Here are some tips for practicing the pronunciation:\n",
            "\n",
            "- Listen to native speakers pronouncing 鸭子 (yāzi) online or in person.\n",
            "- Record yourself saying 鸭子 (yāzi) and compare it to the pronunciation of native speakers.\n",
            "- Practice saying 鸭子 (yāzi) in different contexts, such as \"我要吃鸭子\" (wǒ yào chī yāzi, I want to eat duck) or \"鸭子在水里游泳\" (yāzi zài shuǐ lǐ yóuyǒng, the duck is swimming in the water).\n",
            "- Be patient and keep practicing. With time and effort, you will be able to pronounce 鸭子 (yāzi) like a native speaker.\n"
          ]
        }
      ],
      "source": [
        "# Config.run() handles the complex things for you\n",
        "# Run multiple different prompts and pass in parameters to specify variables to pass into the prompt\n",
        "aiconfig.delete_output(\"multilinguality\")\n",
        "await aiconfig.run(\"multilinguality\")\n",
        "output_text = aiconfig.get_output_text(\"multilinguality\")\n",
        "print(f'Gemini output: {output_text} \\n')\n",
        "\n",
        "await aiconfig.run(\"pronounciation\", params={\"language\": \"Mandarin\"})\n",
        "output_text = aiconfig.get_output_text(\"pronounciation\")\n",
        "print(f'Gemini output: {output_text}')"
      ]
    },
    {
      "attachments": {},
      "cell_type": "markdown",
      "metadata": {
        "id": "dAjjPrTq16z1"
      },
      "source": [
        "## More with [AIConfig](https://github.com/lastmile-ai/aiconfig)\n",
        "\n",
        "There's a lot more you can do with aiconfig! Check out these resources and guides below\n",
        "\n",
        "\n",
        "<ul style=\"margin-bottom:0; padding-bottom:0;\">\n",
        "  <li><a href=\"https://github.com/lastmile-ai/aiconfig\">GitHub</a></li>\n",
        "  <li><a href=\"https://aiconfig.lastmileai.dev/docs/getting-started\">Getting Started</a></li>\n",
        "  <ul style=\"margin-bottom:0; padding-bottom:0;\">\n",
        "    <li><a href=\"https://aiconfig.lastmileai.dev/docs/overview/create-an-aiconfig\">Create an AIConfig</a></li>\n",
        "    <li><a href=\"https://aiconfig.lastmileai.dev/docs/overview/run-aiconfig\">Run a prompt</a></li>\n",
        "    <li><a href=\"https://aiconfig.lastmileai.dev/docs/overview/parameters\">Pass data into prompts</a></li>\n",
        "    <li><a href=\"https://aiconfig.lastmileai.dev/docs/overview/define-prompt-chain\">Prompt Chains</a></li>\n",
        "    <li><a href=\"https://aiconfig.lastmileai.dev/docs/overview/monitoring-aiconfig\">Callbacks and monitoring</a></li>\n",
        "  </ul>\n",
        "  <li>Cookbooks and guides</li>\n",
        "  <ul style=\"margin-bottom:0; padding-bottom:0;\">\n",
        "    <li><a href=\"https://github.com/lastmile-ai/aiconfig/tree/main/cookbooks/Wizard-GPT\">CLI Chatbot</a></li>\n",
        "    <li><a href=\"https://github.com/lastmile-ai/aiconfig/tree/main/cookbooks/RAG-with-ChromaDB\">RAG with ChromaDB</a></li>\n",
        "    <li><a href=\"https://github.com/lastmile-ai/aiconfig/tree/main/cookbooks/RAG-with-MongoDB\">RAG with MongoDB</a></li>\n",
        "    <li><a href=\"https://github.com/lastmile-ai/aiconfig/tree/main/cookbooks/Basic-Prompt-Routing\">Prompt routing</a></li>\n",
        "    <li><a href=\"https://github.com/lastmile-ai/aiconfig/tree/main/cookbooks/Function-Calling-OpenAI\">OpenAI function calling</a></li>\n",
        "    <li><a href=\"https://github.com/lastmile-ai/aiconfig/tree/main/cookbooks/Chain-of-Verification\">Chain of Verification</a></li>\n",
        "  </ul>\n",
        "  <li>Supported models</li>\n",
        "  <ul style=\"margin-bottom:0; padding-bottom:0;\">\n",
        "    <li><a href=\"https://github.com/lastmile-ai/aiconfig/tree/main/cookbooks/Getting-Started\">OpenAI</a></li>\n",
        "    <li><a href=\"https://github.com/lastmile-ai/aiconfig/tree/main/cookbooks/llama\">LLaMA2 example</a></li>\n",
        "    <li><a href=\"https://github.com/lastmile-ai/aiconfig/tree/main/cookbooks/HuggingFace\">Hugging Face (Mistral-7B) example</a></li>\n",
        "    <li><a href=\"https://github.com/lastmile-ai/aiconfig/blob/main/extensions/LLama-Guard/python/python/src/aiconfig_extension_llama_guard/LLamaGuard.py\">LLaMA Guard</a></li>\n",
        "    <li><a href=\"https://github.com/lastmile-ai/aiconfig/tree/main/cookbooks/Multi-LLM-Consistency\">PaLM</a></li>\n",
        "    <li><a href=\"https://github.com/lastmile-ai/aiconfig/tree/main/cookbooks/Gemini\">Gemini</a></li>\n",
        "  </ul>\n",
        "</ul>"
      ]
    },
    {
      "attachments": {},
      "cell_type": "markdown",
      "metadata": {},
      "source": []
    }
  ],
  "metadata": {
    "accelerator": "GPU",
    "colab": {
      "collapsed_sections": [
        "v6xEJJ7ljiYa"
      ],
      "gpuType": "T4",
      "machine_shape": "hm",
      "provenance": []
    },
    "kernelspec": {
      "display_name": "Python 3",
      "name": "python3"
    },
    "language_info": {
      "codemirror_mode": {
        "name": "ipython",
        "version": 3
      },
      "file_extension": ".py",
      "mimetype": "text/x-python",
      "name": "python",
      "nbconvert_exporter": "python",
      "pygments_lexer": "ipython3",
      "version": "3.11.6"
    }
  },
  "nbformat": 4,
  "nbformat_minor": 0
}
