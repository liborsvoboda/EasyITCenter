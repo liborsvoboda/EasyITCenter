{
  "cells": [
    {
      "cell_type": "markdown",
      "metadata": {
        "id": "_KIVLBz840Bi"
      },
      "source": [
        "# Chain-of-Verification GPT4 Template\n",
        "Chain-of-Verification (CoVe) is a prompt engineering technique to bypass hallucinations. An LLM generates a baseline response to a user query, but this might contain errors. CoVe helps by creating a plan comprising of verification questions that are used to validate the information. This process results in more accurate answers than the initial response. The final answer is revised based on these validations. **[ Link to Paper](https://arxiv.org/pdf/2309.11495.pdf)**\n",
        "\n",
        "**How to use template?**\n",
        "1. Download `cove_template_config.json` [here](https://github.com/lastmile-ai/aiconfig/blob/main/cookbooks/Chain-of-Verification/cove_template_config.json).\n",
        "2. Follow instructions in this notebook.\n",
        "\n",
        "*Need a playground to test your prompts?*\n",
        "Go to this [AI Workbook](https://lastmileai.dev/workbooks/clpa6nv2x00fdqp38oefmz29c) to experiment with your prompts/model params."
      ]
    },
    {
      "cell_type": "code",
      "source": [
        "# Install AIConfig package\n",
        "!pip install python-aiconfig"
      ],
      "metadata": {
        "id": "k3tsITZhVFp-"
      },
      "execution_count": null,
      "outputs": []
    },
    {
      "cell_type": "code",
      "execution_count": null,
      "metadata": {
        "id": "51w-3OZC_Z97"
      },
      "outputs": [],
      "source": [
        "# Import required modules from AIConfig and other dependencies\n",
        "import openai\n",
        "import json\n",
        "import pandas as pd\n",
        "from google.colab import userdata\n",
        "from aiconfig import AIConfigRuntime, CallbackManager, InferenceOptions\n",
        "\n",
        "# Use your OpenAI Key\n",
        "openai.api_key = userdata.get('openai_key')"
      ]
    },
    {
      "cell_type": "code",
      "execution_count": null,
      "metadata": {
        "id": "6cAw1ekXCxGn"
      },
      "outputs": [],
      "source": [
        "# Make sure to upload `cove_template_config.json`to Files in Colab Notebook\n",
        "file_path = \"cove_template_config.json\"\n",
        "config = AIConfigRuntime.load(file_path) # loads config\n",
        "config.callback_manager = CallbackManager([])\n",
        "\n",
        "inference_options = InferenceOptions() # setup streaming"
      ]
    },
    {
      "cell_type": "markdown",
      "metadata": {
        "id": "ykZE2ieO6ryn"
      },
      "source": [
        "## 1. Baseline Response\n",
        "Prompt LLM with user question. The baseline response from the LLM might contain inaccuracies that we will want to verify.\n",
        "\n",
        "**Prompt: Name 15 politicians who were born in New York City, New York.**"
      ]
    },
    {
      "cell_type": "code",
      "execution_count": null,
      "metadata": {
        "colab": {
          "base_uri": "https://localhost:8080/"
        },
        "id": "nbolW2mVDeZD",
        "outputId": "0e3d90fc-12ab-40e4-99c1-89de436a61e6"
      },
      "outputs": [
        {
          "output_type": "stream",
          "name": "stdout",
          "text": [
            "1. Theodore Roosevelt - 26th President of the United States\n",
            "2. Franklin D. Roosevelt - 32nd President of the United States\n",
            "3. Donald Trump - 45th President of the United States\n",
            "4. Michael Bloomberg - Former Mayor of New York City\n",
            "5. Rudy Giuliani - Former Mayor of New York City\n",
            "6. Chuck Schumer - U.S. Senator from New York\n",
            "7. Kirsten Gillibrand - U.S. Senator from New York\n",
            "8. Alexandria Ocasio-Cortez - U.S. Representative from New York's 14th congressional district\n",
            "9. Eliot Spitzer - Former Governor of New York\n",
            "10. Andrew Cuomo - Former Governor of New York\n",
            "11. Bill de Blasio - Former Mayor of New York City\n",
            "12. Eric Adams - Current Mayor of New York City\n",
            "13. Al Sharpton - Civil rights activist and former presidential candidate\n",
            "14. Geraldine Ferraro - Former U.S. Representative and vice presidential candidate\n",
            "15. Daniel Patrick Moynihan - Former U.S. Senator from New York."
          ]
        }
      ],
      "source": [
        "# TODO: Update baseline_prompt but ensure it is structured in a way that outputs a list of entities where each can be verified.\n",
        "baseline_prompt = \"Name 15 politicians who were born in New York City, New York.\"\n",
        "# baseline_prompt = \"List 20 programming languages that were developed in the United States. Include the developer name in parantheses.\"\n",
        "\n",
        "# Run baseline prompt to generate initial response which might contain errors\n",
        "async def run_baseline_prompt(baseline_prompt):\n",
        "    config.update_parameter(\"baseline_prompt\", baseline_prompt)\n",
        "    config.save()\n",
        "\n",
        "    await config.run(\"baseline_response_gen\", options=inference_options) # run baseline prompt\n",
        "    return config.get_output_text(\"baseline_response_gen\")\n",
        "\n",
        "baseline_response = await run_baseline_prompt(baseline_prompt)"
      ]
    },
    {
      "cell_type": "markdown",
      "metadata": {
        "id": "7OQNz9cM7Myv"
      },
      "source": [
        "\n",
        "## 2. Setup and Test Verification Question\n",
        "Given both query and baseline response, generate a verification\n",
        "question that could help to self-analyze if there are any mistakes in the original response. We will use one verification question here.\n",
        "\n",
        "**Verification Prompt: Where was {{entity}} born?**"
      ]
    },
    {
      "cell_type": "code",
      "execution_count": null,
      "metadata": {
        "colab": {
          "base_uri": "https://localhost:8080/"
        },
        "id": "jD9S3q5mMtqd",
        "outputId": "26e67754-48b2-4046-db96-740e1e5bb6fe"
      },
      "outputs": [
        {
          "output_type": "stream",
          "name": "stdout",
          "text": [
            "Al Sharpton was born in Brooklyn, New York, USA."
          ]
        }
      ],
      "source": [
        "# TODO: Update verification question that takes in entity as a parameter\n",
        "verification_question = \"Where was {{entity}} born?\"\n",
        "# verification_question =  \"Where was this coding language developed: {{entity}}?\"\n",
        "\n",
        "# Run verification on a single entity from baseline response to test\n",
        "async def run_single_verification(verification_question, entity):\n",
        "    params = {\"entity\": entity}\n",
        "    config.update_parameter(\"verification_question\", verification_question)\n",
        "    config.save()\n",
        "\n",
        "    verification_completion = await config.run(\"verification\", params, options=inference_options)\n",
        "    return verification_completion\n",
        "\n",
        "# TODO: Update with an entity from the baseline response\n",
        "verification_completion = await run_single_verification(verification_question, \"AL Sharpton\")"
      ]
    },
    {
      "cell_type": "markdown",
      "metadata": {
        "id": "B9Zaypp075f9"
      },
      "source": [
        "## 3. Execute Verifications\n",
        "Answer each verification question for each entity from the the baseline response. Save the verification results in a single string."
      ]
    },
    {
      "cell_type": "code",
      "execution_count": null,
      "metadata": {
        "id": "QFew6GhONR8X",
        "colab": {
          "base_uri": "https://localhost:8080/"
        },
        "outputId": "afd847a2-91b6-4b48-acb9-9209c7be63ab"
      },
      "outputs": [
        {
          "output_type": "stream",
          "name": "stdout",
          "text": [
            "Theodore Roosevelt was born in New York City, New York, USA.\n",
            "\n",
            "Franklin D. Roosevelt was born in Hyde Park, New York, USA.\n",
            "\n",
            "Donald Trump was born in Queens, New York, USA.\n",
            "\n",
            "Michael Bloomberg was born in Boston, Massachusetts, USA.\n",
            "\n",
            "Rudy Giuliani was born in Brooklyn, New York, USA.\n",
            "\n",
            "Chuck Schumer was born in Brooklyn, New York, USA.\n",
            "\n",
            "Kirsten Gillibrand was born in Albany, New York, USA.\n",
            "\n",
            "Alexandria Ocasio-Cortez was born in The Bronx, New York City, USA.\n",
            "\n",
            "Eliot Spitzer was born in The Bronx, New York, USA.\n",
            "\n",
            "Andrew Cuomo was born in Queens, New York, USA.\n",
            "\n",
            "Bill de Blasio was born in Manhattan, New York, USA.\n",
            "\n",
            "Eric Adams was born in Brownsville, Brooklyn, New York, USA.\n",
            "\n",
            "Al Sharpton was born in Brooklyn, New York, USA.\n",
            "\n",
            "Geraldine Ferraro was born in Newburgh, New York, USA.\n",
            "\n",
            "Daniel Patrick Moynihan was born in Tulsa, Oklahoma, USA.\n",
            "\n"
          ]
        }
      ],
      "source": [
        "# Extracts entity names from a given baseline response by processing each line with regex.\n",
        "# TODO: Update regex if the format of the baseline response changes. (ex. not a numbered list)\n",
        "def gen_entities_list(baseline_response):\n",
        "  rows = baseline_response.split('\\n')\n",
        "  entities = []\n",
        "\n",
        "  for row in rows:\n",
        "      if not row.strip():\n",
        "          continue\n",
        "      entities.append(pd.Series(row).str.extract(r'(\\d+\\.\\s)([^,]*)')[1].values[0])\n",
        "\n",
        "  return entities\n",
        "\n",
        "# Run verification question for each entity and concatenates returned verifications into a single string.\n",
        "async def gen_verification_results(entities):\n",
        "  verification_data = \"\"\n",
        "  for n in entities:\n",
        "      params = {\n",
        "          \"verification_question\": verification_question,\n",
        "          \"entity\": n\n",
        "      }\n",
        "      verification_completion = await config.run(\"verification\", params, options=inference_options)\n",
        "      single_verification_text = config.get_output_text(\"verification\")\n",
        "      verification_data += \" \" + single_verification_text\n",
        "      print(\"\\n\")\n",
        "\n",
        "  return verification_data\n",
        "\n",
        "\n",
        "entities = gen_entities_list(baseline_response)\n",
        "verification_data = await gen_verification_results(entities)"
      ]
    },
    {
      "cell_type": "markdown",
      "metadata": {
        "id": "Ldof6NdR86qI"
      },
      "source": [
        "## 4. Generate Revised Response\n",
        "Given the discovered inconsistencies (if any), generate a revised response incorporating the verification results."
      ]
    },
    {
      "cell_type": "code",
      "execution_count": null,
      "metadata": {
        "colab": {
          "base_uri": "https://localhost:8080/"
        },
        "id": "4MiNxiJc9GPI",
        "outputId": "9fa58490-8eb3-4a88-cd54-efa36cdb22aa"
      },
      "outputs": [
        {
          "output_type": "stream",
          "name": "stdout",
          "text": [
            "### Revised Response \n",
            "1. Theodore Roosevelt - 26th President of the United States\n",
            "2. Donald Trump - 45th President of the United States\n",
            "3. Rudy Giuliani - Former Mayor of New York City\n",
            "4. Chuck Schumer - U.S. Senator from New York\n",
            "5. Alexandria Ocasio-Cortez - U.S. Representative from New York's 14th congressional district\n",
            "6. Eliot Spitzer - Former Governor of New York\n",
            "7. Andrew Cuomo - Former Governor of New York\n",
            "8. Bill de Blasio - Former Mayor of New York City\n",
            "9. Eric Adams - Current Mayor of New York City\n",
            "10. Al Sharpton - Civil rights activist and former presidential candidate\n",
            "\n",
            "### Failed Entities \n",
            "1. Franklin D. Roosevelt - Born in Hyde Park, New York, not New York City.\n",
            "2. Michael Bloomberg - Born in Boston, Massachusetts, not New York City.\n",
            "3. Kirsten Gillibrand - Born in Albany, New York, not New York City.\n",
            "4. Geraldine Ferraro - Born in Newburgh, New York, not New York City.\n",
            "5. Daniel Patrick Moynihan - Born in Tulsa, Oklahoma, not New York City."
          ]
        }
      ],
      "source": [
        "# Generated the revised response using verification data\n",
        "params = {\"verification_results\": verification_data}\n",
        "revised_response = await config.run(\"final_response_gen\", params, options=inference_options)"
      ]
    }
  ],
  "metadata": {
    "colab": {
      "provenance": []
    },
    "kernelspec": {
      "display_name": "Python 3",
      "name": "python3"
    },
    "language_info": {
      "name": "python"
    }
  },
  "nbformat": 4,
  "nbformat_minor": 0
}